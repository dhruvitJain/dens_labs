{
 "cells": [
  {
   "cell_type": "markdown",
   "metadata": {},
   "source": [
    "Name - Dhruvit Jain\n",
    "\n",
    "Branch/Stream - B. Tech ExTC\n",
    "\n",
    "Semester - 8\n",
    "\n",
    "DENS Lab Number - 3\n",
    "\n",
    "Date of performance - 22/01/2021\n",
    "\n",
    "Date of submission - 22/01/2021\n",
    "\n",
    "Aim - \n",
    "\n",
    "a) To WAP to find multiplicative inverse of a given number in Zn\n",
    "\n",
    "b) To implement Affine Cipher  "
   ]
  },
  {
   "cell_type": "code",
   "execution_count": null,
   "metadata": {},
   "outputs": [],
   "source": [
    "#importing libraries\n",
    "import string\n",
    "import math"
   ]
  },
  {
   "cell_type": "code",
   "execution_count": 86,
   "metadata": {},
   "outputs": [
    {
     "name": "stdout",
     "output_type": "stream",
     "text": [
      "abcdefghijklmnopqrstuvwxyzABCDEFGHIJKLMNOPQRSTUVWXYZ0123456789 !\"#$%&'()*+,-./:;<=>?@[\\]^_`{|}~\n",
      "95\n"
     ]
    }
   ],
   "source": [
    "#this block takes into account all the possible characters we may encounter during encryption\n",
    "#letters, numbers, whitespace and special characters all are included\n",
    "\n",
    "letter_values = string.ascii_letters + string.digits + \" \" + string.punctuation\n",
    "print (letter_values)\n",
    "n = len(letter_values)\n",
    "print (n)"
   ]
  },
  {
   "cell_type": "code",
   "execution_count": 87,
   "metadata": {},
   "outputs": [
    {
     "name": "stdout",
     "output_type": "stream",
     "text": [
      "Possible values of k1: \n",
      "\n",
      "[1, 2, 3, 4, 6, 7, 8, 9, 11, 12, 13, 14, 16, 17, 18, 21, 22, 23, 24, 26, 27, 28, 29, 31, 32, 33, 34, 36, 37, 39, 41, 42, 43, 44, 46, 47, 48, 49, 51, 52, 53, 54, 56, 58, 59, 61, 62, 63, 64, 66, 67, 68, 69, 71, 72, 73, 74, 77, 78, 79, 81, 82, 83, 84, 86, 87, 88, 89, 91, 92, 93, 94]\n",
      "\n",
      "\n",
      "Multiplicative inverses of the keys above: \n",
      "\n",
      "[1, 48, 32, 24, 16, 68, 12, 74, 26, 8, 22, 34, 6, 28, 37, 86, 13, 62, 4, 11, 88, 17, 59, 46, 3, 72, 14, 66, 18, 39, 51, 43, 42, 54, 31, 93, 2, 64, 41, 53, 52, 44, 56, 77, 29, 81, 23, 92, 49, 36, 78, 7, 84, 91, 33, 82, 9, 58, 67, 89, 61, 73, 87, 69, 21, 83, 27, 79, 71, 63, 47, 94]\n"
     ]
    }
   ],
   "source": [
    "mi = [] #list for k1 values\n",
    "mii = [] #list for the multiplicative inverses of values in mi i.e. multiplication inverses of k1\n",
    "\n",
    "#below for loop is used to calculate gcd values of 1-95 and 95. If gcd is 1, multiplication inverse exists\n",
    "for i in range (0,len(letter_values)+1):\n",
    "        a = math.gcd (i,n)\n",
    "        if a == 1:\n",
    "            mi.append (i)\n",
    "print (\"Possible values of k1: \\n\")\n",
    "print (mi)\n",
    "\n",
    "#below for loop is used to find the multiplicative inverse of all the values in mi list\n",
    "for i in range (0,len(mi)):\n",
    "    for x in range (1,len(letter_values)):\n",
    "        mi[i] = mi[i] % n\n",
    "        if ((mi[i] * x) % n == 1):\n",
    "            mii.append(x)\n",
    "print (\"\\n\")\n",
    "print (\"Multiplicative inverses of the keys above: \\n\")\n",
    "print (mii)   \n"
   ]
  },
  {
   "cell_type": "code",
   "execution_count": 88,
   "metadata": {},
   "outputs": [
    {
     "name": "stdout",
     "output_type": "stream",
     "text": [
      "The multiplicative inverse pairs are as follows: \n",
      "\n",
      "{1: 1, 2: 48, 3: 32, 4: 24, 6: 16, 7: 68, 8: 12, 9: 74, 11: 26, 12: 8, 13: 22, 14: 34, 16: 6, 17: 28, 18: 37, 21: 86, 22: 13, 23: 62, 24: 4, 26: 11, 27: 88, 28: 17, 29: 59, 31: 46, 32: 3, 33: 72, 34: 14, 36: 66, 37: 18, 39: 39, 41: 51, 42: 43, 43: 42, 44: 54, 46: 31, 47: 93, 48: 2, 49: 64, 51: 41, 52: 53, 53: 52, 54: 44, 56: 56, 58: 77, 59: 29, 61: 81, 62: 23, 63: 92, 64: 49, 66: 36, 67: 78, 68: 7, 69: 84, 71: 91, 72: 33, 73: 82, 74: 9, 77: 58, 78: 67, 79: 89, 81: 61, 82: 73, 83: 87, 84: 69, 86: 21, 87: 83, 88: 27, 89: 79, 91: 71, 92: 63, 93: 47, 94: 94}\n"
     ]
    }
   ],
   "source": [
    "#zip function is used to convert 2 lists into a single dictionary \n",
    "\n",
    "dict1 = dict (zip(mi,mii))\n",
    "print (\"The multiplicative inverse pairs are as follows: \\n\")\n",
    "print (dict1)"
   ]
  },
  {
   "cell_type": "code",
   "execution_count": null,
   "metadata": {},
   "outputs": [],
   "source": [
    "k1 = int (input(\"Enter value of key k1: \"))\n",
    "if (k1 in mi):\n",
    "    k1inv = dict1[k1]\n",
    "    print (f\"The multiplicative inverse of {k1} is {k1inv}\")\n",
    "    k2 = int (input(\"Enter value of key k2: \"))\n",
    "else :\n",
    "    print (\"Multiplicative inverse doesn't exist.\")\n"
   ]
  },
  {
   "cell_type": "code",
   "execution_count": 82,
   "metadata": {},
   "outputs": [
    {
     "name": "stdout",
     "output_type": "stream",
     "text": [
      "The following shows the dictionary which is used for substituton: \n",
      "\n",
      "\n",
      "{'a': '2', 'b': '4', 'c': '6', 'd': '8', 'e': ' ', 'f': '\"', 'g': '$', 'h': '&', 'i': '(', 'j': '*', 'k': ',', 'l': '.', 'm': ':', 'n': '<', 'o': '>', 'p': '@', 'q': '\\\\', 'r': '^', 's': '`', 't': '|', 'u': '~', 'v': 'b', 'w': 'd', 'x': 'f', 'y': 'h', 'z': 'j', 'A': 'l', 'B': 'n', 'C': 'p', 'D': 'r', 'E': 't', 'F': 'v', 'G': 'x', 'H': 'z', 'I': 'B', 'J': 'D', 'K': 'F', 'L': 'H', 'M': 'J', 'N': 'L', 'O': 'N', 'P': 'P', 'Q': 'R', 'R': 'T', 'S': 'V', 'T': 'X', 'U': 'Z', 'V': '1', 'W': '3', 'X': '5', 'Y': '7', 'Z': '9', '0': '!', '1': '#', '2': '%', '3': \"'\", '4': ')', '5': '+', '6': '-', '7': '/', '8': ';', '9': '=', ' ': '?', '!': '[', '\"': ']', '#': '_', '$': '{', '%': '}', '&': 'a', \"'\": 'c', '(': 'e', ')': 'g', '*': 'i', '+': 'k', ',': 'm', '-': 'o', '.': 'q', '/': 's', ':': 'u', ';': 'w', '<': 'y', '=': 'A', '>': 'C', '?': 'E', '@': 'G', '[': 'I', '\\\\': 'K', ']': 'M', '^': 'O', '_': 'Q', '`': 'S', '{': 'U', '|': 'W', '}': 'Y', '~': '0'}\n"
     ]
    }
   ],
   "source": [
    "dict2 = {}\n",
    "for i in range(n):\n",
    "        dict2[letter_values[i]] = letter_values[((i*k1)+k2)%n] #create the required key and value dictionary for encryption\n",
    "    \n",
    "print (\"The following shows the dictionary which is used for substituton: \")\n",
    "print (\"\\n\")\n",
    "print (dict2)"
   ]
  },
  {
   "cell_type": "code",
   "execution_count": 83,
   "metadata": {},
   "outputs": [
    {
     "name": "stdout",
     "output_type": "stream",
     "text": [
      "Enter plaintext: \n",
      "dhruvit\n",
      "\n",
      "\n",
      "The following is the encrypted text: \n",
      "8&^~b(|\n"
     ]
    }
   ],
   "source": [
    "#function used for encryption\n",
    "\n",
    "def ciphering (plain_text):\n",
    "    cipher_text=\"\"\n",
    "    for character in plain_text:\n",
    "        if character in letter_values:\n",
    "            temp=dict2[character]\n",
    "            cipher_text+=temp        \n",
    "    return cipher_text\n",
    "\n",
    "plain_text = input (\"Enter plaintext: \\n\")\n",
    "print (\"\\n\")\n",
    "\n",
    "a = ciphering (plain_text)\n",
    "print (\"The following is the encrypted text: \")\n",
    "print (a)"
   ]
  },
  {
   "cell_type": "code",
   "execution_count": 84,
   "metadata": {},
   "outputs": [
    {
     "name": "stdout",
     "output_type": "stream",
     "text": [
      "The following is the decrypted text: \n",
      "dhruvit\n"
     ]
    }
   ],
   "source": [
    "#function used for decryption\n",
    "\n",
    "def decryption (ciphered):\n",
    "    decipher_text=\"\"\n",
    "    for character in ciphered:\n",
    "        if character in letter_values:\n",
    "            temp=dict3[character]\n",
    "            decipher_text+=temp\n",
    "    return decipher_text\n",
    "\n",
    "\n",
    "for k in range (1,n+1): \n",
    "    dict3={}\n",
    "    for i in range(len(letter_values)):\n",
    "            dict3[letter_values[i]]= letter_values[((i-k2)*k1inv)%n] #create the required dictionary for decryption\n",
    "\n",
    "b= decryption (a)\n",
    "print (\"The following is the decrypted text: \")\n",
    "print (b)"
   ]
  },
  {
   "cell_type": "markdown",
   "metadata": {},
   "source": [
    "CONCLUSION:\n",
    "\n",
    "Affine Cipher is a combination of additive and multiplicative cipher. Additive ciphers are sometimes referred to as shift ciphers or substitution ciphers. In multiplicative cipher, the encryption algorithm specifies multiplication of the plain text by the key and decryption algorithm specifies division of the cipher text by the key. However, since the operations are in Zn, the decryption here means multiplying by multiplicative inverse of the key. So the key needs to belong to the set Zn* to guarantee that the encryption and decryption are inverses of each other. \n",
    "\n",
    "It uses modular arithmetic to transform the integer that each plaintext letter corresponds to into another integer that correspond to a ciphertext letter. The encryption function for a single letter is:\n",
    "\n",
    "E ( x ) = ( k1 x + k2 ) mod n\n",
    "\n",
    "n: size of the dictionary\n",
    "\n",
    "k1 and k2: key of the cipher.\n",
    "\n",
    "k1 must be chosen such that k1 and n are coprime."
   ]
  },
  {
   "cell_type": "code",
   "execution_count": null,
   "metadata": {},
   "outputs": [],
   "source": []
  }
 ],
 "metadata": {
  "kernelspec": {
   "display_name": "Python 3",
   "language": "python",
   "name": "python3"
  },
  "language_info": {
   "codemirror_mode": {
    "name": "ipython",
    "version": 3
   },
   "file_extension": ".py",
   "mimetype": "text/x-python",
   "name": "python",
   "nbconvert_exporter": "python",
   "pygments_lexer": "ipython3",
   "version": "3.7.4"
  }
 },
 "nbformat": 4,
 "nbformat_minor": 4
}
