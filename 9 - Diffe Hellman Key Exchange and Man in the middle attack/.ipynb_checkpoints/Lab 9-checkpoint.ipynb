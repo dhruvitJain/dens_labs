{
 "cells": [
  {
   "cell_type": "markdown",
   "metadata": {},
   "source": [
    "Name - Dhruvit Jain\n",
    "\n",
    "Branch/Stream - B. Tech ExTC\n",
    "\n",
    "Semester - 8\n",
    "\n",
    "DENS Lab Number - 9\n",
    "\n",
    "Date of performance - 12/03/2021\n",
    "\n",
    "Date of submission - 21/03/2021\n",
    "\n",
    "Aim - \n",
    "\n",
    "a.\tTo implement Diffie Hellman key exchange algorithm\n",
    "\n",
    "b.\tTo implement Diffie Hellman key exchange algorithm Man-in-Middle or Bucket Brigade Attack\n"
   ]
  },
  {
   "cell_type": "code",
   "execution_count": 42,
   "metadata": {},
   "outputs": [
    {
     "name": "stdout",
     "output_type": "stream",
     "text": [
      "Select n: 19\n"
     ]
    }
   ],
   "source": [
    "n = int (input (\"Select n: \"))"
   ]
  },
  {
   "cell_type": "code",
   "execution_count": 43,
   "metadata": {},
   "outputs": [
    {
     "name": "stdout",
     "output_type": "stream",
     "text": [
      "19 is a prime number.\n",
      "Primitive roots of modulo 19 are [2, 3, 10, 13, 14, 15]\n",
      "Select g such that it is a primitive root of 19: 15\n",
      "This value of g is valid.\n"
     ]
    }
   ],
   "source": [
    "import math\n",
    "\n",
    "#function to check if the number n is prime or not \n",
    "def prime(n):\n",
    "    if n > 1:\n",
    "        for i in range (2,n):\n",
    "            if n%i==0:\n",
    "                print (f\"{n} is not a prime number.\")\n",
    "                break\n",
    "            else:\n",
    "                print (f\"{n} is a prime number.\")\n",
    "                return (n)\n",
    "\n",
    "\n",
    "#function to find primitive roots of n\n",
    "pr=[]\n",
    "def PrimitiveRoots(n1):\n",
    "    n = prime (n1)\n",
    "    phi_n = n-1\n",
    "    \n",
    "    for a in range (2,n):\n",
    "        for p in range (1,n):\n",
    "\n",
    "            remainder = (a**p) % n\n",
    "            if (remainder == 1):\n",
    "                if p == phi_n:\n",
    "                    pr.append (a)\n",
    "                    break\n",
    "                    \n",
    "                else:\n",
    "                    break\n",
    "\n",
    "    return pr\n",
    "            \n",
    "\n",
    "prim = PrimitiveRoots(n)\n",
    "print (f\"Primitive roots of modulo {n} are {prim}\")\n",
    "\n",
    "\n",
    "g = int (input (f\"Select g such that it is a primitive root of {n}: \"))\n",
    "if g in prim:\n",
    "    print (\"This value of g is valid.\")\n",
    "else:\n",
    "    print (f\"Not a valid value of g as it is not a primitive root of {n}\")"
   ]
  },
  {
   "cell_type": "code",
   "execution_count": 44,
   "metadata": {},
   "outputs": [],
   "source": [
    "#function to calculate A and B\n",
    "def AB (a):\n",
    "    ans = (g**a) % n\n",
    "    return ans\n",
    "\n",
    "#function to calculate x and y\n",
    "def K(c,z):\n",
    "    ans = (c**z) % n\n",
    "    return ans"
   ]
  },
  {
   "cell_type": "code",
   "execution_count": 45,
   "metadata": {},
   "outputs": [
    {
     "name": "stdout",
     "output_type": "stream",
     "text": [
      "Alice's X: 10\n",
      "Bob's Y: 11\n",
      "A = 4\n",
      "B = 3\n",
      "Session Key = K1 = K2 = 16\n"
     ]
    }
   ],
   "source": [
    "x = int (input (\"Alice's X: \"))\n",
    "y = int (input (\"Bob's Y: \"))\n",
    "\n",
    "\n",
    "A = AB (x)\n",
    "B = AB (y)\n",
    "\n",
    "K1 = K(B,x)\n",
    "K2 = K(A,y)\n",
    "\n",
    "print (f\"A = {A}\")\n",
    "print (f\"B = {B}\")\n",
    "if K1 == K2:\n",
    "    KS = K1\n",
    "    \n",
    "print (f\"Session Key = K1 = K2 = {KS}\")\n",
    "\n"
   ]
  },
  {
   "cell_type": "code",
   "execution_count": 46,
   "metadata": {},
   "outputs": [
    {
     "name": "stdout",
     "output_type": "stream",
     "text": [
      "Alice's X: 14\n",
      "Bob's Y: 13\n",
      "Tom's X: 11\n",
      "Tom's Y: 7\n",
      "Tom's A = 3\n",
      "Tom's B = 13\n",
      "Key between Alice and Tom: 5\n",
      "Key between Tom and Bob: 14\n"
     ]
    }
   ],
   "source": [
    "#Man in the middle attack\n",
    "\n",
    "x = int (input (\"Alice's X: \"))\n",
    "y = int (input (\"Bob's Y: \"))\n",
    "\n",
    "A = AB (x)\n",
    "B = AB (y)\n",
    "\n",
    "x_t = int (input (\"Tom's X: \"))\n",
    "y_t = int (input (\"Tom's Y: \"))\n",
    "\n",
    "t_A = AB (x_t)\n",
    "t_B = AB (y_t)\n",
    "\n",
    "print (f\"Tom's A = {t_A}\")\n",
    "print (f\"Tom's B = {t_B}\")\n",
    "\n",
    "#now instead of Alice transmitting A, Tom intercepts and transmits his A i.e. t_A\n",
    "#similarly, instead of Bob transmitting B, Tom intercepts and transmits his B i.e. t_B\n",
    "\n",
    "K1 = K(t_B,x)\n",
    "K2 = K(t_A,y)\n",
    "\n",
    "#now tom knows both K1 and K2, A knows K1 and B knows K2\n",
    "K_AT = K1\n",
    "K_TB = K2\n",
    "\n",
    "print (f\"Key between Alice and Tom: {K_AT}\")\n",
    "print (f\"Key between Tom and Bob: {K_TB}\")\n"
   ]
  },
  {
   "cell_type": "code",
   "execution_count": 47,
   "metadata": {},
   "outputs": [
    {
     "name": "stdout",
     "output_type": "stream",
     "text": [
      "abcdefghijklmnopqrstuvwxyzABCDEFGHIJKLMNOPQRSTUVWXYZ0123456789 !\"#$%&'()*+,-./:;<=>?@[\\]^_`{|}~\n",
      "95\n"
     ]
    }
   ],
   "source": [
    "#Substitution Cipher\n",
    "\n",
    "import string\n",
    "\n",
    "letter_values = string.ascii_letters + string.digits + \" \" + string.punctuation\n",
    "print (letter_values)\n",
    "n = len(letter_values)\n",
    "print (n)"
   ]
  },
  {
   "cell_type": "code",
   "execution_count": 48,
   "metadata": {},
   "outputs": [
    {
     "name": "stdout",
     "output_type": "stream",
     "text": [
      "The following shows the dictionary which is used for encryption by A: \n",
      "\n",
      "\n",
      "{'a': 'f', 'b': 'g', 'c': 'h', 'd': 'i', 'e': 'j', 'f': 'k', 'g': 'l', 'h': 'm', 'i': 'n', 'j': 'o', 'k': 'p', 'l': 'q', 'm': 'r', 'n': 's', 'o': 't', 'p': 'u', 'q': 'v', 'r': 'w', 's': 'x', 't': 'y', 'u': 'z', 'v': 'A', 'w': 'B', 'x': 'C', 'y': 'D', 'z': 'E', 'A': 'F', 'B': 'G', 'C': 'H', 'D': 'I', 'E': 'J', 'F': 'K', 'G': 'L', 'H': 'M', 'I': 'N', 'J': 'O', 'K': 'P', 'L': 'Q', 'M': 'R', 'N': 'S', 'O': 'T', 'P': 'U', 'Q': 'V', 'R': 'W', 'S': 'X', 'T': 'Y', 'U': 'Z', 'V': '0', 'W': '1', 'X': '2', 'Y': '3', 'Z': '4', '0': '5', '1': '6', '2': '7', '3': '8', '4': '9', '5': ' ', '6': '!', '7': '\"', '8': '#', '9': '$', ' ': '%', '!': '&', '\"': \"'\", '#': '(', '$': ')', '%': '*', '&': '+', \"'\": ',', '(': '-', ')': '.', '*': '/', '+': ':', ',': ';', '-': '<', '.': '=', '/': '>', ':': '?', ';': '@', '<': '[', '=': '\\\\', '>': ']', '?': '^', '@': '_', '[': '`', '\\\\': '{', ']': '|', '^': '}', '_': '~', '`': 'a', '{': 'b', '|': 'c', '}': 'd', '~': 'e'}\n",
      "The following shows the dictionary which is used for decryption of A's text by T: \n",
      "\n",
      "\n",
      "{'a': '`', 'b': '{', 'c': '|', 'd': '}', 'e': '~', 'f': 'a', 'g': 'b', 'h': 'c', 'i': 'd', 'j': 'e', 'k': 'f', 'l': 'g', 'm': 'h', 'n': 'i', 'o': 'j', 'p': 'k', 'q': 'l', 'r': 'm', 's': 'n', 't': 'o', 'u': 'p', 'v': 'q', 'w': 'r', 'x': 's', 'y': 't', 'z': 'u', 'A': 'v', 'B': 'w', 'C': 'x', 'D': 'y', 'E': 'z', 'F': 'A', 'G': 'B', 'H': 'C', 'I': 'D', 'J': 'E', 'K': 'F', 'L': 'G', 'M': 'H', 'N': 'I', 'O': 'J', 'P': 'K', 'Q': 'L', 'R': 'M', 'S': 'N', 'T': 'O', 'U': 'P', 'V': 'Q', 'W': 'R', 'X': 'S', 'Y': 'T', 'Z': 'U', '0': 'V', '1': 'W', '2': 'X', '3': 'Y', '4': 'Z', '5': '0', '6': '1', '7': '2', '8': '3', '9': '4', ' ': '5', '!': '6', '\"': '7', '#': '8', '$': '9', '%': ' ', '&': '!', \"'\": '\"', '(': '#', ')': '$', '*': '%', '+': '&', ',': \"'\", '-': '(', '.': ')', '/': '*', ':': '+', ';': ',', '<': '-', '=': '.', '>': '/', '?': ':', '@': ';', '[': '<', '\\\\': '=', ']': '>', '^': '?', '_': '@', '`': '[', '{': '\\\\', '|': ']', '}': '^', '~': '_'}\n"
     ]
    }
   ],
   "source": [
    "dict_encrypt_AT = {}\n",
    "key = K1\n",
    "for i in range(n):\n",
    "        dict_encrypt_AT[letter_values[i]] = letter_values[(i+key)%n] #create the required dictionary for encryption\n",
    "        \n",
    "print (\"The following shows the dictionary which is used for encryption by A: \")\n",
    "print (\"\\n\")\n",
    "print (dict_encrypt_AT)\n",
    "\n",
    "dict_decrypt_AT = {}\n",
    "key = K_AT\n",
    "for i in range(n):\n",
    "        dict_decrypt_AT[letter_values[i]] = letter_values[(i-key)%n] #create the required dictionary for decryption\n",
    "        \n",
    "print (\"The following shows the dictionary which is used for decryption of A's text by T: \")\n",
    "print (\"\\n\")\n",
    "print (dict_decrypt_AT)"
   ]
  },
  {
   "cell_type": "code",
   "execution_count": 49,
   "metadata": {},
   "outputs": [
    {
     "name": "stdout",
     "output_type": "stream",
     "text": [
      "The following shows the dictionary which is used for encryption by B: \n",
      "\n",
      "\n",
      "{'a': 'o', 'b': 'p', 'c': 'q', 'd': 'r', 'e': 's', 'f': 't', 'g': 'u', 'h': 'v', 'i': 'w', 'j': 'x', 'k': 'y', 'l': 'z', 'm': 'A', 'n': 'B', 'o': 'C', 'p': 'D', 'q': 'E', 'r': 'F', 's': 'G', 't': 'H', 'u': 'I', 'v': 'J', 'w': 'K', 'x': 'L', 'y': 'M', 'z': 'N', 'A': 'O', 'B': 'P', 'C': 'Q', 'D': 'R', 'E': 'S', 'F': 'T', 'G': 'U', 'H': 'V', 'I': 'W', 'J': 'X', 'K': 'Y', 'L': 'Z', 'M': '0', 'N': '1', 'O': '2', 'P': '3', 'Q': '4', 'R': '5', 'S': '6', 'T': '7', 'U': '8', 'V': '9', 'W': ' ', 'X': '!', 'Y': '\"', 'Z': '#', '0': '$', '1': '%', '2': '&', '3': \"'\", '4': '(', '5': ')', '6': '*', '7': '+', '8': ',', '9': '-', ' ': '.', '!': '/', '\"': ':', '#': ';', '$': '<', '%': '=', '&': '>', \"'\": '?', '(': '@', ')': '[', '*': '\\\\', '+': ']', ',': '^', '-': '_', '.': '`', '/': '{', ':': '|', ';': '}', '<': '~', '=': 'a', '>': 'b', '?': 'c', '@': 'd', '[': 'e', '\\\\': 'f', ']': 'g', '^': 'h', '_': 'i', '`': 'j', '{': 'k', '|': 'l', '}': 'm', '~': 'n'}\n",
      "The following shows the dictionary which is used for decryption of B's text by T: \n",
      "\n",
      "\n",
      "{'a': '=', 'b': '>', 'c': '?', 'd': '@', 'e': '[', 'f': '\\\\', 'g': ']', 'h': '^', 'i': '_', 'j': '`', 'k': '{', 'l': '|', 'm': '}', 'n': '~', 'o': 'a', 'p': 'b', 'q': 'c', 'r': 'd', 's': 'e', 't': 'f', 'u': 'g', 'v': 'h', 'w': 'i', 'x': 'j', 'y': 'k', 'z': 'l', 'A': 'm', 'B': 'n', 'C': 'o', 'D': 'p', 'E': 'q', 'F': 'r', 'G': 's', 'H': 't', 'I': 'u', 'J': 'v', 'K': 'w', 'L': 'x', 'M': 'y', 'N': 'z', 'O': 'A', 'P': 'B', 'Q': 'C', 'R': 'D', 'S': 'E', 'T': 'F', 'U': 'G', 'V': 'H', 'W': 'I', 'X': 'J', 'Y': 'K', 'Z': 'L', '0': 'M', '1': 'N', '2': 'O', '3': 'P', '4': 'Q', '5': 'R', '6': 'S', '7': 'T', '8': 'U', '9': 'V', ' ': 'W', '!': 'X', '\"': 'Y', '#': 'Z', '$': '0', '%': '1', '&': '2', \"'\": '3', '(': '4', ')': '5', '*': '6', '+': '7', ',': '8', '-': '9', '.': ' ', '/': '!', ':': '\"', ';': '#', '<': '$', '=': '%', '>': '&', '?': \"'\", '@': '(', '[': ')', '\\\\': '*', ']': '+', '^': ',', '_': '-', '`': '.', '{': '/', '|': ':', '}': ';', '~': '<'}\n"
     ]
    }
   ],
   "source": [
    "dict_encrypt_BT = {}\n",
    "key = K2\n",
    "for i in range(n):\n",
    "        dict_encrypt_BT[letter_values[i]] = letter_values[(i+key)%n] #create the required dictionary for encryption\n",
    "        \n",
    "print (\"The following shows the dictionary which is used for encryption by B: \")\n",
    "print (\"\\n\")\n",
    "print (dict_encrypt_BT)\n",
    "\n",
    "dict_decrypt_BT = {}\n",
    "key = K_TB\n",
    "for i in range(n):\n",
    "        dict_decrypt_BT[letter_values[i]] = letter_values[(i-key)%n] #create the required dictionary for decryption\n",
    "        \n",
    "print (\"The following shows the dictionary which is used for decryption of B's text by T: \")\n",
    "print (\"\\n\")\n",
    "print (dict_decrypt_BT)"
   ]
  },
  {
   "cell_type": "code",
   "execution_count": 50,
   "metadata": {},
   "outputs": [],
   "source": [
    "def encryption (plain_text,key,dict1):\n",
    "    cipher_text=\"\"\n",
    "    for character in plain_text:\n",
    "        if character in letter_values:\n",
    "            temp=dict1[character]\n",
    "            cipher_text+=temp       \n",
    "    return cipher_text\n",
    "\n",
    "\n",
    "def decryption (ciphered,key1,dict2):\n",
    "    decipher_text=\"\"\n",
    "    for character in ciphered:\n",
    "        if character in letter_values:\n",
    "            temp=dict2[character]\n",
    "            decipher_text+=temp\n",
    "    return decipher_text"
   ]
  },
  {
   "cell_type": "code",
   "execution_count": 51,
   "metadata": {},
   "outputs": [
    {
     "name": "stdout",
     "output_type": "stream",
     "text": [
      "Before Interception\n",
      "Plaintext: Dhruvit you got 100 in DENS!\n",
      "Ciphertext: ImwzAny%Dtz%lty%655%ns%IJSX& \n",
      "\n",
      "During Interception\n",
      "Decrypted Plaintext by Tom: Dhruvit you got 100 in DENS!\n",
      "Modified Plaintext by Tom: Dhruvit you got 20 in DENS!\n",
      "Modified Ciphertext by Tom: RvFIJwH.MCI.uCH.&$.wB.RS16/ \n",
      "\n",
      "This modified ciphertext is now sent to B. \n",
      "\n",
      "After Interception\n",
      "Decrypted Modified Text: Dhruvit you got 20 in DENS!\n"
     ]
    }
   ],
   "source": [
    "print (\"Before Interception\")\n",
    "\n",
    "plaintext = \"Dhruvit you got 100 in DENS!\"\n",
    "print (f\"Plaintext: {plaintext}\")\n",
    "\n",
    "#Alice encrypts using K1\n",
    "ciphertext_A = encryption (plaintext,K1,dict_encrypt_AT)\n",
    "print (f\"Ciphertext: {ciphertext_A} \\n\")\n",
    "\n",
    "print (\"During Interception\")\n",
    "\n",
    "#this message is intercepted by Tom\n",
    "plaintext_AT = decryption (ciphertext_A,K_AT,dict_decrypt_AT)\n",
    "print (f\"Decrypted Plaintext by Tom: {plaintext_AT}\")\n",
    "\n",
    "#Tom modifies the above plaintext, encrypts using his own shared key with B and forwards it\n",
    "plaintext_AT = \"Dhruvit you got 20 in DENS!\"\n",
    "print (f\"Modified Plaintext by Tom: {plaintext_AT}\")\n",
    "\n",
    "ciphertext_BT = encryption (plaintext_AT,K_TB,dict_encrypt_BT)\n",
    "print (f\"Modified Ciphertext by Tom: {ciphertext_BT} \\n\")\n",
    "print (\"This modified ciphertext is now sent to B. \\n\")\n",
    "\n",
    "#Bob's decryption\n",
    "print (\"After Interception\")\n",
    "plaintext_B = decryption (ciphertext_BT, K2, dict_decrypt_BT)\n",
    "print (f\"Decrypted Modified Text: {plaintext_B}\")\n"
   ]
  },
  {
   "cell_type": "markdown",
   "metadata": {},
   "source": [
    "### CONCLUSIONS\n",
    "\n",
    "Diffie–Hellman key exchange is a method of securely exchanging cryptographic keys over a public channel and was one of the first public-key protocols. Diffie–Hellman key exchange establishes a shared secret between two parties that can be used for secret communication for exchanging data over a public network. The simplest and the original implementation of the protocol uses the multiplicative group of integers modulo p, where p is prime, and g is a primitive root modulo p.\n",
    "\n",
    "The Diffie-Hellman key exchange is vulnerable to a man-in-the-middle attack. In this attack, an opponent Carol intercepts Alice's public value and sends her own public value to Bob. When Bob transmits his public value, Carol substitutes it with her own and sends it to Alice. Carol and Alice thus agree on one shared key and Carol and Bob agree on another shared key. After this exchange, Carol simply decrypts any messages sent out by Alice or Bob, and then reads and possibly modifies them before re-encrypting with the appropriate key and transmitting them to the other party. This vulnerability is present because Diffie-Hellman key exchange does not authenticate the participants."
   ]
  }
 ],
 "metadata": {
  "kernelspec": {
   "display_name": "Python 3",
   "language": "python",
   "name": "python3"
  },
  "language_info": {
   "codemirror_mode": {
    "name": "ipython",
    "version": 3
   },
   "file_extension": ".py",
   "mimetype": "text/x-python",
   "name": "python",
   "nbconvert_exporter": "python",
   "pygments_lexer": "ipython3",
   "version": "3.7.4"
  }
 },
 "nbformat": 4,
 "nbformat_minor": 4
}
