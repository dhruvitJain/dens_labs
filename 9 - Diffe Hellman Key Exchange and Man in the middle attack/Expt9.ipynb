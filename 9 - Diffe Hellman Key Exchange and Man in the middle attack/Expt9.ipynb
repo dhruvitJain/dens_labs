{
 "cells": [
  {
   "cell_type": "markdown",
   "metadata": {
    "id": "lDkmFy-THRqR"
   },
   "source": [
    "1.   Name:Mayank Kapil\n",
    "1.   Roll No:C022\n",
    "2.   Course-DENS\n",
    "2.   Aim:a. To implement Diffie Hellman key exchange algorithm \n",
    "1.       b. To implement Diffie Hellman key exchange algorithm Man-in-Middle or Bucket Brigade Attack"
   ]
  },
  {
   "cell_type": "code",
   "execution_count": null,
   "metadata": {
    "colab": {
     "base_uri": "https://localhost:8080/"
    },
    "id": "BOAaHxrLH-IA",
    "outputId": "b5c4432e-5b50-412e-8766-fc64631711ac"
   },
   "outputs": [
    {
     "name": "stdout",
     "output_type": "stream",
     "text": [
      "Collecting pycrypto\n",
      "\u001b[?25l  Downloading https://files.pythonhosted.org/packages/60/db/645aa9af249f059cc3a368b118de33889219e0362141e75d4eaf6f80f163/pycrypto-2.6.1.tar.gz (446kB)\n",
      "\r",
      "\u001b[K     |▊                               | 10kB 18.3MB/s eta 0:00:01\r",
      "\u001b[K     |█▌                              | 20kB 23.0MB/s eta 0:00:01\r",
      "\u001b[K     |██▏                             | 30kB 19.2MB/s eta 0:00:01\r",
      "\u001b[K     |███                             | 40kB 15.8MB/s eta 0:00:01\r",
      "\u001b[K     |███▊                            | 51kB 16.2MB/s eta 0:00:01\r",
      "\u001b[K     |████▍                           | 61kB 15.9MB/s eta 0:00:01\r",
      "\u001b[K     |█████▏                          | 71kB 11.3MB/s eta 0:00:01\r",
      "\u001b[K     |█████▉                          | 81kB 12.0MB/s eta 0:00:01\r",
      "\u001b[K     |██████▋                         | 92kB 12.5MB/s eta 0:00:01\r",
      "\u001b[K     |███████▍                        | 102kB 11.8MB/s eta 0:00:01\r",
      "\u001b[K     |████████                        | 112kB 11.8MB/s eta 0:00:01\r",
      "\u001b[K     |████████▉                       | 122kB 11.8MB/s eta 0:00:01\r",
      "\u001b[K     |█████████▌                      | 133kB 11.8MB/s eta 0:00:01\r",
      "\u001b[K     |██████████▎                     | 143kB 11.8MB/s eta 0:00:01\r",
      "\u001b[K     |███████████                     | 153kB 11.8MB/s eta 0:00:01\r",
      "\u001b[K     |███████████▊                    | 163kB 11.8MB/s eta 0:00:01\r",
      "\u001b[K     |████████████▌                   | 174kB 11.8MB/s eta 0:00:01\r",
      "\u001b[K     |█████████████▏                  | 184kB 11.8MB/s eta 0:00:01\r",
      "\u001b[K     |██████████████                  | 194kB 11.8MB/s eta 0:00:01\r",
      "\u001b[K     |██████████████▊                 | 204kB 11.8MB/s eta 0:00:01\r",
      "\u001b[K     |███████████████▍                | 215kB 11.8MB/s eta 0:00:01\r",
      "\u001b[K     |████████████████▏               | 225kB 11.8MB/s eta 0:00:01\r",
      "\u001b[K     |█████████████████               | 235kB 11.8MB/s eta 0:00:01\r",
      "\u001b[K     |█████████████████▋              | 245kB 11.8MB/s eta 0:00:01\r",
      "\u001b[K     |██████████████████▍             | 256kB 11.8MB/s eta 0:00:01\r",
      "\u001b[K     |███████████████████             | 266kB 11.8MB/s eta 0:00:01\r",
      "\u001b[K     |███████████████████▉            | 276kB 11.8MB/s eta 0:00:01\r",
      "\u001b[K     |████████████████████▋           | 286kB 11.8MB/s eta 0:00:01\r",
      "\u001b[K     |█████████████████████▎          | 296kB 11.8MB/s eta 0:00:01\r",
      "\u001b[K     |██████████████████████          | 307kB 11.8MB/s eta 0:00:01\r",
      "\u001b[K     |██████████████████████▊         | 317kB 11.8MB/s eta 0:00:01\r",
      "\u001b[K     |███████████████████████▌        | 327kB 11.8MB/s eta 0:00:01\r",
      "\u001b[K     |████████████████████████▎       | 337kB 11.8MB/s eta 0:00:01\r",
      "\u001b[K     |█████████████████████████       | 348kB 11.8MB/s eta 0:00:01\r",
      "\u001b[K     |█████████████████████████▊      | 358kB 11.8MB/s eta 0:00:01\r",
      "\u001b[K     |██████████████████████████▍     | 368kB 11.8MB/s eta 0:00:01\r",
      "\u001b[K     |███████████████████████████▏    | 378kB 11.8MB/s eta 0:00:01\r",
      "\u001b[K     |████████████████████████████    | 389kB 11.8MB/s eta 0:00:01\r",
      "\u001b[K     |████████████████████████████▋   | 399kB 11.8MB/s eta 0:00:01\r",
      "\u001b[K     |█████████████████████████████▍  | 409kB 11.8MB/s eta 0:00:01\r",
      "\u001b[K     |██████████████████████████████  | 419kB 11.8MB/s eta 0:00:01\r",
      "\u001b[K     |██████████████████████████████▉ | 430kB 11.8MB/s eta 0:00:01\r",
      "\u001b[K     |███████████████████████████████▋| 440kB 11.8MB/s eta 0:00:01\r",
      "\u001b[K     |████████████████████████████████| 450kB 11.8MB/s \n",
      "\u001b[?25hBuilding wheels for collected packages: pycrypto\n",
      "  Building wheel for pycrypto (setup.py) ... \u001b[?25l\u001b[?25hdone\n",
      "  Created wheel for pycrypto: filename=pycrypto-2.6.1-cp37-cp37m-linux_x86_64.whl size=499931 sha256=82edc2cd7f5f027cf63e7f20f992045faf0444216b45c5484de4084bc20a9e2f\n",
      "  Stored in directory: /root/.cache/pip/wheels/27/02/5e/77a69d0c16bb63c6ed32f5386f33a2809c94bd5414a2f6c196\n",
      "Successfully built pycrypto\n",
      "Installing collected packages: pycrypto\n",
      "Successfully installed pycrypto-2.6.1\n"
     ]
    }
   ],
   "source": [
    "!pip install pycrypto"
   ]
  },
  {
   "cell_type": "code",
   "execution_count": null,
   "metadata": {
    "id": "95qM6bq5ISI7"
   },
   "outputs": [],
   "source": [
    "from Crypto.Util import number\n",
    "import random"
   ]
  },
  {
   "cell_type": "code",
   "execution_count": null,
   "metadata": {
    "id": "pyHhjmBwJSZi"
   },
   "outputs": [],
   "source": [
    "#nb=number of bits\n",
    "def gen_large_prime(nb):\n",
    "  n=number.getPrime(nb)\n",
    "  return n"
   ]
  },
  {
   "cell_type": "code",
   "execution_count": null,
   "metadata": {
    "id": "foeErLoDKS2l"
   },
   "outputs": [],
   "source": [
    "import random\n",
    "def choose_power_randomly():\n",
    "  #random.seed(5)\n",
    "  x=random.randint(1,1000)\n",
    "  y=random.randint(1,1000)\n",
    "  return x,y"
   ]
  },
  {
   "cell_type": "code",
   "execution_count": null,
   "metadata": {
    "id": "-yNs2gnIK9Xc"
   },
   "outputs": [],
   "source": [
    "def modular_op(n1,n2,n3):\n",
    "  return (n1**n2)%n3"
   ]
  },
  {
   "cell_type": "code",
   "execution_count": null,
   "metadata": {
    "id": "fl8sCdkKvJiB"
   },
   "outputs": [],
   "source": [
    "def primitive_root(n):\n",
    "  phi_n=n-1\n",
    "  count_dup=0#count of ones ,for primitive root count of one will be 1\n",
    "  primitive_roots=[]\n",
    "  dict_ones={}\n",
    "  #modular_op(n1,n2,n3)\n",
    "  for i in range(1,n):\n",
    "    count_dup=0\n",
    "    for j in range(1,n):\n",
    "      res=modular_op(i,j,n)\n",
    "      if res is 1:\n",
    "        count_dup+=1\n",
    "        dict_ones[i]=count_dup\n",
    "        #count_dup=0\n",
    "  for k in dict_ones:\n",
    "    if dict_ones[k] is 1:\n",
    "      primitive_roots.append(k)\n",
    "  return random.choice(primitive_roots)\n",
    "        \n",
    "      "
   ]
  },
  {
   "cell_type": "code",
   "execution_count": null,
   "metadata": {
    "id": "MDhcI37IG4qx"
   },
   "outputs": [],
   "source": [
    "def key_exhange(n,g,x,y):\n",
    "  print('Alice and Bob agree on a large prime number n and another number g such that g<n and g is a primitive root of n',n,'𝑎𝑛𝑑',g)\n",
    "  A=modular_op(g,x,n)\n",
    "  print('Alice chooses another random number',x,'and calculates 𝐴=',A)\n",
    "  print('Alice send 𝐴 to Bob')\n",
    "  B=modular_op(g,y,n)\n",
    "  print('Bob chooses another random number',𝑦,'and calculates 𝐵=',B)\n",
    "  print('Bob sends 𝐵 to Alice')\n",
    "  K1=modular_op(B,x,n)\n",
    "  K2=modular_op(A,y,n)\n",
    "  print('Alice now computes secret key:',K1)\n",
    "  print('Bob also computes secret key:',K2)\n",
    "  return A,B\n"
   ]
  },
  {
   "cell_type": "code",
   "execution_count": null,
   "metadata": {
    "id": "ajY8kg-hNnAI"
   },
   "outputs": [],
   "source": [
    "def Man_in_middle_attack(A,B,n,g,x,y):\n",
    "  print('Attacker Tom is listening. So Tom is also aware of 𝑛 𝑎𝑛𝑑 𝑔',n,g)\n",
    "  print('Alice and Bob select random numbers 𝑥 𝑎𝑛𝑑 𝑦.Tom also selects his own 𝑥 𝑎𝑛𝑑 𝑦',x,y)\n",
    "  A_f=modular_op(g,x,n)\n",
    "  B_f=modular_op(g,y,n)\n",
    "  #A,B=key_exhange(n,g,x,y)\n",
    "  print('Alice calculates 𝐴, Bob calculates 𝐵, Tom calculates his own 𝐴=',A_f,'𝑎𝑛𝑑 𝐵=',B_f)\n",
    "  print('Alice transmits A to Bob, which is intercepted by Tom. Tom, replaces Alice’s 𝐴 i.e',A,'with his own 𝐴 i.e.',A_f,'and forwards it to Bob.')\n",
    "  print('Similarly, Tom intercepts Bob’s 𝐵 i.e.',B,'and forwards his own 𝐵 i.e.',B_f,'to Alice.')\n",
    "  K1=modular_op(B_f,x,n)\n",
    "  K2=modular_op(A_f,y,n)\n",
    "  print('Now Alice finds 𝐾1 ie',K1,'Bob finds 𝐾2 i.e.',K2,'however, Tom finds both 𝐾1𝑎𝑛𝑑 𝐾2')"
   ]
  },
  {
   "cell_type": "code",
   "execution_count": null,
   "metadata": {
    "colab": {
     "base_uri": "https://localhost:8080/"
    },
    "id": "ByHM8gMKMdGh",
    "outputId": "345e243b-8b8e-4361-cf15-0fca10371cb6"
   },
   "outputs": [
    {
     "name": "stdout",
     "output_type": "stream",
     "text": [
      "Alice and Bob agree on a large prime number n and another number g such that g<n and g is a primitive root of n 19 𝑎𝑛𝑑 2\n",
      "Alice chooses another random number 478 and calculates 𝐴= 17\n",
      "Alice send 𝐴 to Bob\n",
      "Bob chooses another random number 40 and calculates 𝐵= 16\n",
      "Bob sends 𝐵 to Alice\n",
      "Alice now computes secret key: 16\n",
      "Bob also computes secret key: 16\n"
     ]
    }
   ],
   "source": [
    "n=gen_large_prime(5)\n",
    "g=primitive_root(n)\n",
    "x,y=choose_power_randomly()\n",
    "A,B=key_exhange(n,g,x,y)"
   ]
  },
  {
   "cell_type": "code",
   "execution_count": null,
   "metadata": {
    "colab": {
     "base_uri": "https://localhost:8080/"
    },
    "id": "W5DJbUTZORKp",
    "outputId": "4f52114a-3f24-4632-e890-0787e89978e1"
   },
   "outputs": [
    {
     "name": "stdout",
     "output_type": "stream",
     "text": [
      "Attacker Tom is listening. So Tom is also aware of 𝑛 𝑎𝑛𝑑 𝑔 19 2\n",
      "Alice and Bob select random numbers 𝑥 𝑎𝑛𝑑 𝑦.Tom also selects his own 𝑥 𝑎𝑛𝑑 𝑦 32 798\n",
      "Alice calculates 𝐴, Bob calculates 𝐵, Tom calculates his own 𝐴= 6 𝑎𝑛𝑑 𝐵= 7\n",
      "Alice transmits A to Bob, which is intercepted by Tom. Tom, replaces Alice’s 𝐴 i.e 17 with his own 𝐴 i.e. 6 and forwards it to Bob.\n",
      "Similarly, Tom intercepts Bob’s 𝐵 i.e. 16 and forwards his own 𝐵 i.e. 7 to Alice.\n",
      "Now Alice finds 𝐾1 ie 11 Bob finds 𝐾2 i.e. 11 however, Tom finds both 𝐾1𝑎𝑛𝑑 𝐾2\n"
     ]
    }
   ],
   "source": [
    "#print(A)\n",
    "x,y=choose_power_randomly()\n",
    "Man_in_middle_attack(A,B,n,g,x,y)"
   ]
  },
  {
   "cell_type": "markdown",
   "metadata": {
    "id": "lRYTiG1_LJdU"
   },
   "source": [
    "Conclusion\n",
    "In the Diffie–Hellman key exchange scheme, each party generates a public/private key pair and distributes the public key. After obtaining an authentic copy of each other's public keys, Alice and Bob can compute a shared secret offline. The shared secret can be used, for instance, as the key for a symmetric cipher."
   ]
  }
 ],
 "metadata": {
  "colab": {
   "collapsed_sections": [],
   "name": "Expt9.ipynb",
   "provenance": []
  },
  "kernelspec": {
   "display_name": "Python 3",
   "language": "python",
   "name": "python3"
  },
  "language_info": {
   "codemirror_mode": {
    "name": "ipython",
    "version": 3
   },
   "file_extension": ".py",
   "mimetype": "text/x-python",
   "name": "python",
   "nbconvert_exporter": "python",
   "pygments_lexer": "ipython3",
   "version": "3.7.4"
  }
 },
 "nbformat": 4,
 "nbformat_minor": 1
}
