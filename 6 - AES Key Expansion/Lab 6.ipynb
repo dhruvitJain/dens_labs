{
 "cells": [
  {
   "cell_type": "markdown",
   "metadata": {},
   "source": [
    "Name - Dhruvit Jain\n",
    "\n",
    "Branch/Stream - B. Tech ExTC\n",
    "\n",
    "Semester - 8\n",
    "\n",
    "DENS Lab Number - 6\n",
    "\n",
    "Date of performance - 19/02/2021\n",
    "\n",
    "Date of submission - 26/02/2021\n",
    "\n",
    "Aim - To implement key expansion algorithm for AES-128"
   ]
  },
  {
   "cell_type": "code",
   "execution_count": 61,
   "metadata": {},
   "outputs": [
    {
     "name": "stdout",
     "output_type": "stream",
     "text": [
      "[611689139, 880105096, 836899328, 329929863, 2304095694, 3173049158, 2361585990, 2674435521, 3461598485, 1936928339, 4289847061, 1624865492, 4287202757, 2365238166, 1934324867, 328339031, 3089292984, 886601006, 1200816557, 1409355770, 3562337176, 3767305910, 2803861275, 4078864609, 2257587093, 1713147171, 3238201912, 840794841, 1652768438, 77575061, 3315382701, 4152441716, 3999378654, 3942522699, 794994406, 3638795666, 3829392319, 247594228, 564353554, 4181772160, 3690540582, 3577270994, 4103833792, 232476480]\n"
     ]
    }
   ],
   "source": [
    "#Ma'ams code with t values already given\n",
    "\n",
    "t= [0Xad20177d, 0X470678db, 0X31da48d0, 0x47ab5b7d, 0x6c762d20, 0x52c4f80d, 0xe4133523, 0x8ce29268, 0x0a5e4f61, 0x3fc6cd99]\n",
    "w1=[0x2475a2b3, 0x34755688, 0x31e21200, 0x13aa5487]\n",
    "\n",
    "j=0\n",
    "for i in range (4,44):\n",
    "    if i%4==0:\n",
    "        temp = t[j]^w1[i-4]\n",
    "        w1.append(temp)\n",
    "        j+=1\n",
    "    else:\n",
    "        temp = w1[i-4]^w1[i-1]\n",
    "        w1.append(temp)\n",
    "        \n",
    "print (w1)      "
   ]
  },
  {
   "cell_type": "code",
   "execution_count": 62,
   "metadata": {},
   "outputs": [
    {
     "name": "stdout",
     "output_type": "stream",
     "text": [
      "['0x2475a2b3', '0x34755688', '0x31e21200', '0x13aa5487', '0x8955b5ce', '0xbd20e346', '0x8cc2f146', '0x9f68a5c1', '0xce53cd15', '0x73732e53', '0xffb1df15', '0x60d97ad4', '0xff8985c5', '0x8cfaab96', '0x734b7483', '0x13920e57', '0xb822deb8', '0x34d8752e', '0x479301ad', '0x54010ffa', '0xd454f398', '0xe08c86b6', '0xa71f871b', '0xf31e88e1', '0x86900b95', '0x661c8d23', '0xc1030a38', '0x321d82d9', '0x62833eb6', '0x49fb395', '0xc59cb9ad', '0xf7813b74', '0xee61acde', '0xeafe1f4b', '0x2f62a6e6', '0xd8e39d92', '0xe43fe3bf', '0xec1fcf4', '0x21a35a12', '0xf940c780', '0xdbf92e26', '0xd538d2d2', '0xf49b88c0', '0xddb4f40']\n"
     ]
    }
   ],
   "source": [
    "word=[]\n",
    "for i in range(0,44):\n",
    "          temp= hex(w1[i])\n",
    "          word.append(temp)\n",
    "            \n",
    "print(word)"
   ]
  },
  {
   "cell_type": "code",
   "execution_count": 11,
   "metadata": {},
   "outputs": [],
   "source": [
    "Sbox = [\n",
    "            [0x63, 0x7C, 0x77, 0x7B, 0xF2, 0x6B, 0x6F, 0xC5, 0x30, 0x01, 0x67, 0x2B, 0xFE, 0xD7, 0xAB, 0x76],\n",
    "            [0xCA, 0x82, 0xC9, 0x7D, 0xFA, 0x59, 0x47, 0xF0, 0xAD, 0xD4, 0xA2, 0xAF, 0x9C, 0xA4, 0x72, 0xC0],\n",
    "            [0xB7, 0xFD, 0x93, 0x26, 0x36, 0x3F, 0xF7, 0xCC, 0x34, 0xA5, 0xE5, 0xF1, 0x71, 0xD8, 0x31, 0x15],\n",
    "            [0x04, 0xC7, 0x23, 0xC3, 0x18, 0x96, 0x05, 0x9A, 0x07, 0x12, 0x80, 0xE2, 0xEB, 0x27, 0xB2, 0x75],\n",
    "            [0x09, 0x83, 0x2C, 0x1A, 0x1B, 0x6E, 0x5A, 0xA0, 0x52, 0x3B, 0xD6, 0xB3, 0x29, 0xE3, 0x2F, 0x84],\n",
    "            [0x53, 0xD1, 0x00, 0xED, 0x20, 0xFC, 0xB1, 0x5B, 0x6A, 0xCB, 0xBE, 0x39, 0x4A, 0x4C, 0x58, 0xCF],\n",
    "            [0xD0, 0xEF, 0xAA, 0xFB, 0x43, 0x4D, 0x33, 0x85, 0x45, 0xF9, 0x02, 0x7F, 0x50, 0x3C, 0x9F, 0xA8],\n",
    "            [0x51, 0xA3, 0x40, 0x8F, 0x92, 0x9D, 0x38, 0xF5, 0xBC, 0xB6, 0xDA, 0x21, 0x10, 0xFF, 0xF3, 0xD2],\n",
    "            [0xCD, 0x0C, 0x13, 0xEC, 0x5F, 0x97, 0x44, 0x17, 0xC4, 0xA7, 0x7E, 0x3D, 0x64, 0x5D, 0x19, 0x73],\n",
    "            [0x60, 0x81, 0x4F, 0xDC, 0x22, 0x2A, 0x90, 0x88, 0x46, 0xEE, 0xB8, 0x14, 0xDE, 0x5E, 0x0B, 0xDB],\n",
    "            [0xE0, 0x32, 0x3A, 0x0A, 0x49, 0x06, 0x24, 0x5C, 0xC2, 0xD3, 0xAC, 0x62, 0x91, 0x95, 0xE4, 0x79],\n",
    "            [0xE7, 0xC8, 0x37, 0x6D, 0x8D, 0xD5, 0x4E, 0xA9, 0x6C, 0x56, 0xF4, 0xEA, 0x65, 0x7A, 0xAE, 0x08],\n",
    "            [0xBA, 0x78, 0x25, 0x2E, 0x1C, 0xA6, 0xB4, 0xC6, 0xE8, 0xDD, 0x74, 0x1F, 0x4B, 0xBD, 0x8B, 0x8A],\n",
    "            [0x70, 0x3E, 0xB5, 0x66, 0x48, 0x03, 0xF6, 0x0E, 0x61, 0x35, 0x57, 0xB9, 0x86, 0xC1, 0x1D, 0x9E],\n",
    "            [0xE1, 0xF8, 0x98, 0x11, 0x69, 0xD9, 0x8E, 0x94, 0x9B, 0x1E, 0x87, 0xE9, 0xCE, 0x55, 0x28, 0xDF],\n",
    "            [0x8C, 0xA1, 0x89, 0x0D, 0xBF, 0xE6, 0x42, 0x68, 0x41, 0x99, 0x2D, 0x0F, 0xB0, 0x54, 0xBB, 0x16]\n",
    "        ]\n",
    "\n",
    "Rcon = [0x01000000, 0x02000000,\n",
    "        0x04000000, 0x08000000, 0x10000000, \n",
    "        0x20000000, 0x40000000, 0x80000000, \n",
    "        0x1b000000, 0x36000000]"
   ]
  },
  {
   "cell_type": "code",
   "execution_count": 13,
   "metadata": {},
   "outputs": [
    {
     "name": "stdout",
     "output_type": "stream",
     "text": [
      "aa548713\n"
     ]
    }
   ],
   "source": [
    "#ROTATION\n",
    "\n",
    "from collections import deque\n",
    "\n",
    "def Rotation (ele):\n",
    "    \n",
    "    w2=bin(ele).replace(\"0b\", \"\") #convert hex argument to binary for easy rotation\n",
    "    n=len(w2)\n",
    "    \n",
    "    if n <32:\n",
    "        w2= (32-n)*'0'+w2 #make sure size is 32 to ensure even rotations for all\n",
    "\n",
    "    w3 = deque(w2)\n",
    "    w3.rotate (-8) #left circular shift by 8 positions/bits i.e. 1 byte\n",
    "    \n",
    "    w4=''.join(list(w3))\n",
    "    \n",
    "    hexa=[]\n",
    "    for i in range (0,32,4):\n",
    "        a=w4[i:i+4]\n",
    "        h= hex(int(a, 2)).replace('0x','') #convert binary representation to hex\n",
    "        hexa.append(h)\n",
    "\n",
    "    hexa1=''.join(hexa)\n",
    "    return (hexa1)\n",
    "\n",
    "\n",
    "\n",
    "'''\n",
    "TEST BLOCK\n",
    "\n",
    "a=Rotation (0x13aa5487)\n",
    "print (a)\n",
    "b=int(a, 16)\n",
    "print (b)\n",
    "\n",
    "'''    \n"
   ]
  },
  {
   "cell_type": "code",
   "execution_count": 28,
   "metadata": {},
   "outputs": [
    {
     "name": "stdout",
     "output_type": "stream",
     "text": [
      "ac20177d\n",
      "<class 'str'>\n"
     ]
    }
   ],
   "source": [
    "#SUBSTITUTION\n",
    "\n",
    "def Substitution (ele):\n",
    "\n",
    "    letters = ['a','b','c','d','e','f']\n",
    "    dict1 = {'a':10,'b':11,'c':12,'d':13,'e':14,'f':15} #ensures Sbox can be accessed using x and y co-ordinates\n",
    "\n",
    "    after_sub=[]\n",
    "    for i in range (0,8,2):\n",
    "        temp = a[i:i+2]\n",
    "\n",
    "        x= temp[0]\n",
    "        y=temp[1]\n",
    "\n",
    "        if x in letters:\n",
    "            x= dict1[x] #if a-f occur in the position, replace them with 10-15 respectively\n",
    "            \n",
    "        if y in letters:\n",
    "            y= dict1[y]\n",
    "\n",
    "        x=int(x) #ensure the position is an int\n",
    "        y=int(y)\n",
    "\n",
    "        temp2 = (Sbox [x][y]) #access substituted value using x and y co-ordinates\n",
    "        \n",
    "        temp3 = '{:02x}'.format(temp2) #represent hex without 0x and 2 positions max\n",
    "        after_sub.append(temp3)\n",
    "\n",
    "    k=''.join(after_sub)\n",
    "    return (k)\n",
    "\n",
    "\n",
    "'''\n",
    "TEST BLOCK\n",
    "\n",
    "b=Substitution (a)\n",
    "print (b)\n",
    "print (type(b))\n",
    "\n",
    "'''"
   ]
  },
  {
   "cell_type": "code",
   "execution_count": 43,
   "metadata": {},
   "outputs": [
    {
     "name": "stdout",
     "output_type": "stream",
     "text": [
      "0xad20177d\n",
      "<class 'str'>\n",
      "2904561533\n"
     ]
    }
   ],
   "source": [
    "#Temporary word calculator\n",
    "\n",
    "def Tempword (ele,pos):\n",
    "    ele=int(ele, 16) #convert hex into decimal number\n",
    "\n",
    "    rcon=Rcon[pos] #select appropriate RCon value according to round\n",
    "    rcon=hex(rcon)[2:]\n",
    "    rcon = int(rcon,16) #convert hex to decimal\n",
    "\n",
    "    ans = rcon^ele #xor rcon and substituted word\n",
    "    return (hex(ans))\n",
    "\n",
    "\n",
    "'''\n",
    "TEST BLOCK\n",
    "\n",
    "c= Tempword('ac20177d',0)\n",
    "print (c)\n",
    "print (type(c))\n",
    "print (int(c,16))\n",
    "\n",
    "'''\n"
   ]
  },
  {
   "cell_type": "code",
   "execution_count": 48,
   "metadata": {},
   "outputs": [],
   "source": [
    "w1=[0x2475a2b3, 0x34755688, 0x31e21200, 0x13aa5487] #w0 to w3\n",
    "j=0\n",
    "t=[] #to store temp words\n",
    "\n",
    "for i in range (4,44):\n",
    "    \n",
    "    if i%4==0:\n",
    "        a= Rotation (w1[i-1]) #if i=4, rotate w[i-1] i.e. w3\n",
    "        b= Substitution (a)   #substitute the rotated word\n",
    "        c= Tempword (b,j)     #get final tempword by xoring substituted word with rcon\n",
    "\n",
    "        t.append(c)\n",
    "        temp = (int (t[j],16))^w1[i-4] #get actual word by xoring tempword with w[i-4]\n",
    "        \n",
    "        w1.append(temp) #continue adding words to original list of words\n",
    "        j+=1\n",
    "        \n",
    "    else:\n",
    "        temp = w1[i-4]^w1[i-1]\n",
    "        w1.append(temp)"
   ]
  },
  {
   "cell_type": "code",
   "execution_count": 60,
   "metadata": {},
   "outputs": [
    {
     "name": "stdout",
     "output_type": "stream",
     "text": [
      "Values of t are: \n",
      "\n",
      "AD20177D\n",
      "470678DB\n",
      "31DA48D0\n",
      "47AB5B7D\n",
      "6C762D20\n",
      "52C4F80D\n",
      "E4133523\n",
      "8CE29268\n",
      "0A5E4F61\n",
      "3FC6CD99\n"
     ]
    }
   ],
   "source": [
    "temp_words =[]\n",
    "for elem in t:\n",
    "    elem1 = elem.replace('0x','')\n",
    "    n1 = len (elem1)\n",
    "    if n1<8:\n",
    "        elem1 = (8-n1)*'0'+elem1\n",
    "    temp_words.append(elem1.upper())\n",
    "    \n",
    "print (\"Values of t are: \\n\")\n",
    "print (*temp_words, sep='\\n')"
   ]
  },
  {
   "cell_type": "code",
   "execution_count": 68,
   "metadata": {},
   "outputs": [
    {
     "name": "stdout",
     "output_type": "stream",
     "text": [
      "The 44 words are as follows: \n",
      "word0 = 2475A2B3 \n",
      "word1 = 34755688 \n",
      "word2 = 31E21200 \n",
      "word3 = 13AA5487 \n",
      "word4 = 8955B5CE \n",
      "word5 = BD20E346 \n",
      "word6 = 8CC2F146 \n",
      "word7 = 9F68A5C1 \n",
      "word8 = CE53CD15 \n",
      "word9 = 73732E53 \n",
      "word10 = FFB1DF15 \n",
      "word11 = 60D97AD4 \n",
      "word12 = FF8985C5 \n",
      "word13 = 8CFAAB96 \n",
      "word14 = 734B7483 \n",
      "word15 = 13920E57 \n",
      "word16 = B822DEB8 \n",
      "word17 = 34D8752E \n",
      "word18 = 479301AD \n",
      "word19 = 54010FFA \n",
      "word20 = D454F398 \n",
      "word21 = E08C86B6 \n",
      "word22 = A71F871B \n",
      "word23 = F31E88E1 \n",
      "word24 = 86900B95 \n",
      "word25 = 661C8D23 \n",
      "word26 = C1030A38 \n",
      "word27 = 321D82D9 \n",
      "word28 = 62833EB6 \n",
      "word29 = 049FB395 \n",
      "word30 = C59CB9AD \n",
      "word31 = F7813B74 \n",
      "word32 = EE61ACDE \n",
      "word33 = EAFE1F4B \n",
      "word34 = 2F62A6E6 \n",
      "word35 = D8E39D92 \n",
      "word36 = E43FE3BF \n",
      "word37 = 0EC1FCF4 \n",
      "word38 = 21A35A12 \n",
      "word39 = F940C780 \n",
      "word40 = DBF92E26 \n",
      "word41 = D538D2D2 \n",
      "word42 = F49B88C0 \n",
      "word43 = 0DDB4F40 \n"
     ]
    }
   ],
   "source": [
    "words=[]\n",
    "for elem in w1:\n",
    "    temp= hex(elem) #convert decimal to hex\n",
    "    elem1 = temp.replace('0x','')\n",
    "    n1 = len (elem1)\n",
    "    if n1<8:\n",
    "        elem1 = (8-n1)*'0'+elem1\n",
    "    words.append(elem1.upper())\n",
    "\n",
    "print (\"The 44 words are as follows: \")\n",
    "for i in range (0,44):\n",
    "    print (f\"word{i} = {words[i]} \")"
   ]
  },
  {
   "cell_type": "markdown",
   "metadata": {},
   "source": [
    "CONCLUSIONS:\n",
    "The AES key expansion algorithm takes as input a four-word (16-byte) key and produces a linear array of 44 words (176 bytes). This is sufficient to provide a four-word round key for the initial AddRoundKey stage and each of the 10 rounds of the cipher.\n",
    "When performing the multiple rounds AES utilizes an expanded key to improve the security of the algorithm.\n",
    "It starts by copying 16-byte key into first 4 words and creates new words required for keys of remaining rounds. Each word is dependent on previous words. It consists of 3 important stages: \n",
    "\n",
    "i) Rotation \n",
    "\n",
    "ii) Substitution and \n",
    "\n",
    "iii) Temporary word calculation\n"
   ]
  },
  {
   "cell_type": "code",
   "execution_count": null,
   "metadata": {},
   "outputs": [],
   "source": []
  }
 ],
 "metadata": {
  "kernelspec": {
   "display_name": "Python 3",
   "language": "python",
   "name": "python3"
  },
  "language_info": {
   "codemirror_mode": {
    "name": "ipython",
    "version": 3
   },
   "file_extension": ".py",
   "mimetype": "text/x-python",
   "name": "python",
   "nbconvert_exporter": "python",
   "pygments_lexer": "ipython3",
   "version": "3.7.4"
  }
 },
 "nbformat": 4,
 "nbformat_minor": 4
}
