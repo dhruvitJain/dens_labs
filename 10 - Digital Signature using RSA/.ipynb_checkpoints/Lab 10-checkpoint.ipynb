{
 "cells": [
  {
   "cell_type": "markdown",
   "metadata": {},
   "source": [
    "Name - Dhruvit Jain\n",
    "\n",
    "Branch/Stream - B. Tech ExTC\n",
    "\n",
    "Semester - 8\n",
    "\n",
    "DENS Lab Number - 10\n",
    "\n",
    "Date of performance - 02/04/2021\n",
    "\n",
    "Date of submission - 02/04/2021\n",
    "\n",
    "Aim - To generate digital signature for the given message using RSA scheme"
   ]
  },
  {
   "cell_type": "code",
   "execution_count": 1,
   "metadata": {},
   "outputs": [
    {
     "name": "stdout",
     "output_type": "stream",
     "text": [
      "Enter value of p: 19\n",
      "Enter value of q: 37\n",
      "N = P x Q = 703\n"
     ]
    }
   ],
   "source": [
    "#Selecting two prime numbers (p,q) and calculating n=p*q\n",
    "\n",
    "p = int (input(\"Enter value of p: \"))\n",
    "q = int (input(\"Enter value of q: \"))\n",
    "n = p*q\n",
    "print (\"N = P x Q =\", n)"
   ]
  },
  {
   "cell_type": "code",
   "execution_count": 2,
   "metadata": {},
   "outputs": [
    {
     "name": "stdout",
     "output_type": "stream",
     "text": [
      "phi(n) = 648\n"
     ]
    }
   ],
   "source": [
    "#Calculating phi(n)\n",
    "\n",
    "p_n = (p-1)*(q-1)\n",
    "print (\"phi(n) =\", p_n)"
   ]
  },
  {
   "cell_type": "code",
   "execution_count": 3,
   "metadata": {},
   "outputs": [],
   "source": [
    "#function to calculate factors of a number\n",
    "\n",
    "def factor (n):\n",
    "    factors = []\n",
    "    for i in range (1,n+1):\n",
    "        if n%i==0:\n",
    "            factors.append(i)\n",
    "    return factors"
   ]
  },
  {
   "cell_type": "code",
   "execution_count": 4,
   "metadata": {},
   "outputs": [
    {
     "name": "stdout",
     "output_type": "stream",
     "text": [
      "[1, 2, 3, 4, 6, 8, 9, 12, 18, 24, 27, 36, 54, 72, 81, 108, 162, 216, 324, 648]\n"
     ]
    }
   ],
   "source": [
    "factors = factor (p_n) #find factors of phi(n)\n",
    "print (factors)"
   ]
  },
  {
   "cell_type": "code",
   "execution_count": 5,
   "metadata": {},
   "outputs": [
    {
     "name": "stdout",
     "output_type": "stream",
     "text": [
      "Enter value of E:203\n",
      "E = 203 is valid\n",
      "E = 203 has a multiplicative inverse\n",
      "Multiplicative inverse of 203 i.e. D = 83\n"
     ]
    }
   ],
   "source": [
    "#Input value of E and find it's multiplicative inverse\n",
    "import math\n",
    "\n",
    "e = (int(input(\"Enter value of E:\")))\n",
    "\n",
    "if e in factors:\n",
    "    print (f\"This value of E cannot be taken as it is a factor of {p_n}!\")\n",
    "    \n",
    "elif e> p_n:\n",
    "    print (\"E cannot be greater than phi(n)\")\n",
    "    \n",
    "else:\n",
    "    print (f\"E = {e} is valid\")\n",
    "    \n",
    "    \n",
    "#verifying if multiplicative inverse of E exists\n",
    "    a = math.gcd (e,p_n)\n",
    "    if a == 1:\n",
    "        E = e\n",
    "        print (\"E =\",E,\"has a multiplicative inverse\")\n",
    "        \n",
    "        \n",
    "#finding multiplicative inverse of E i.e. D\n",
    "        for x in range (1,p_n):\n",
    "            E = E % p_n\n",
    "            if ((E * x) % p_n == 1):\n",
    "                D = x\n",
    "                print (f\"Multiplicative inverse of {E} i.e. D = {D}\") "
   ]
  },
  {
   "cell_type": "markdown",
   "metadata": {},
   "source": [
    "### Digital Signature"
   ]
  },
  {
   "cell_type": "code",
   "execution_count": 6,
   "metadata": {},
   "outputs": [
    {
     "name": "stdout",
     "output_type": "stream",
     "text": [
      "Enter plain text: bruh\n",
      "Signature: ǒũi>\n"
     ]
    }
   ],
   "source": [
    "plaintext = input (\"Enter plain text: \")\n",
    "pt = list(plaintext)\n",
    "\n",
    "signature=''\n",
    "\n",
    "for char in pt:\n",
    "    ciphertext1 = ord(char) #convert character to ascii\n",
    "    ciphertext = (ciphertext1**D)% n #perform calculation on ascii value\n",
    "    ciphertext = chr(ciphertext) #convert ascii back to character\n",
    "    signature+=ciphertext\n",
    "    \n",
    "print (f\"Signature: {signature}\")"
   ]
  },
  {
   "cell_type": "code",
   "execution_count": 7,
   "metadata": {},
   "outputs": [
    {
     "name": "stdout",
     "output_type": "stream",
     "text": [
      "M_dash: bruh\n"
     ]
    }
   ],
   "source": [
    "m_dash=''\n",
    "\n",
    "for char in signature:\n",
    "    ciphertext1 = ord(char) #convert character to ascii\n",
    "    ciphertext = (ciphertext1**E)% n #perform calculation on ascii value\n",
    "    ciphertext = chr(ciphertext) #convert ascii back to character\n",
    "    m_dash+=ciphertext\n",
    "    \n",
    "print (f\"M_dash: {m_dash}\")"
   ]
  },
  {
   "cell_type": "code",
   "execution_count": 8,
   "metadata": {},
   "outputs": [
    {
     "name": "stdout",
     "output_type": "stream",
     "text": [
      "Accept the message sent by Alice\n"
     ]
    }
   ],
   "source": [
    "## If plaintext==m_dash, then Bob accepts the message sent by Alice.\n",
    "\n",
    "if plaintext==m_dash:\n",
    "    print (\"Accept the message sent by Alice\")\n",
    "else:\n",
    "    print(\"Do not accept the message sent by Alice \")"
   ]
  },
  {
   "cell_type": "markdown",
   "metadata": {},
   "source": [
    "## CONCLUSIONS\n",
    "\n",
    "Digital signatures are used to verify the authenticity of the message sent electronically. A digital signature algorithm uses a public key system. The intended transmitter signs his/her message with his/her private key and the intended receiver verifies it with the transmitter’s public key. A digital signature can provide message authentication, message integrity and nonrepudiation services. There are various digital signature schemes available like RSA Digital Signature Scheme, ElGamal Digital Signature scheme and Schnorr Digital Signature Scheme. \n",
    "\n",
    "Digital signature scheme changes the role of the private and public keys.\n",
    "Private and public keys of only the sender are used not the receiver.\n",
    "Sender uses her own private key to sign the document and the receiver uses the sender’s public key to verify it. The signing and verifying sets use the same function, but with different parameters. The verifier compares the message and the output of the function for congruence. If the result is two true the message is accepted."
   ]
  },
  {
   "cell_type": "code",
   "execution_count": null,
   "metadata": {},
   "outputs": [],
   "source": []
  }
 ],
 "metadata": {
  "kernelspec": {
   "display_name": "Python 3",
   "language": "python",
   "name": "python3"
  },
  "language_info": {
   "codemirror_mode": {
    "name": "ipython",
    "version": 3
   },
   "file_extension": ".py",
   "mimetype": "text/x-python",
   "name": "python",
   "nbconvert_exporter": "python",
   "pygments_lexer": "ipython3",
   "version": "3.7.4"
  }
 },
 "nbformat": 4,
 "nbformat_minor": 4
}
