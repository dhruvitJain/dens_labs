{
 "cells": [
  {
   "cell_type": "markdown",
   "metadata": {},
   "source": [
    "Name - Dhruvit Jain\n",
    "\n",
    "Branch/Stream - B. Tech ExTC\n",
    "\n",
    "Semester - 8\n",
    "\n",
    "DENS Lab Number - 7\n",
    "\n",
    "Date of performance - 04/03/2021\n",
    "\n",
    "Date of submission - 04/03/2021\n",
    "\n",
    "Aim - \n",
    "\n",
    "a. To obtain multiplicative inverse of a number using Extended Euclidean theorem\n",
    "\n",
    "b. To implement Chinese Remainder theorem"
   ]
  },
  {
   "cell_type": "markdown",
   "metadata": {},
   "source": [
    "## Extended Euclidean theorem"
   ]
  },
  {
   "cell_type": "code",
   "execution_count": 26,
   "metadata": {},
   "outputs": [],
   "source": [
    "def ext_euclidean (a,b):\n",
    "    r=[]\n",
    "    q=[None,None]\n",
    "    x=[1,0]\n",
    "    y=[0,1]\n",
    "    r.append(a)\n",
    "    r.append(b)\n",
    "    \n",
    "    i=2\n",
    "    while i>1:\n",
    "        \n",
    "        r.append(r[i-2] % r[i-1]) #calculating remainder \n",
    "        q.append(r[i-2] // r[i-1]) #calculating quotient\n",
    "        x.append(x[i-2]-q[i]*x[i-1]) #values of x\n",
    "        y.append(y[i-2]-q[i]*y[i-1]) #values of y\n",
    "        \n",
    "        if r[i]==1: #i.e. numbers are co-prime\n",
    "            print (f\"Multiplicative inverse of {b} mod {a} exists!\")\n",
    "            minv = y[-1]%a #as the last element of y is the multiplicative inverse when r=1\n",
    "            print (f\"It is {minv} \\n\")\n",
    "            return (r[i],r,q,x,y,minv)\n",
    "            break   \n",
    "            \n",
    "        if r[i]==0: #numbers are not coprime\n",
    "            print (\"Multiplicative inverse does not exist!\")\n",
    "            return (r[i-1],r,q,x,y,y[-1]%a)\n",
    "            break\n",
    "        \n",
    "        i+=1\n"
   ]
  },
  {
   "cell_type": "code",
   "execution_count": 27,
   "metadata": {},
   "outputs": [
    {
     "name": "stdout",
     "output_type": "stream",
     "text": [
      "Enter value of a: 1759\n",
      "Enter value of b: 550\n",
      "\n",
      "\n",
      "Multiplicative inverse of 550 mod 1759 exists!\n",
      "It is 355 \n",
      "\n",
      "Values of R = [1759, 550, 109, 5, 4, 1]\n",
      "Values of Q = [None, None, 3, 5, 21, 1]\n",
      "Values of X = [1, 0, 1, -5, 106, -111]\n",
      "Values of Y = [0, 1, -3, 16, -339, 355] \n",
      "\n",
      "GCD = 1\n",
      "d = ax + by = 1\n",
      "GCD is equal to d\n"
     ]
    }
   ],
   "source": [
    "a=int (input(\"Enter value of a: \"))\n",
    "b=int (input(\"Enter value of b: \"))\n",
    "print (\"\\n\")\n",
    "\n",
    "gcd,r,q,x,y,mi = ext_euclidean (a,b)\n",
    "\n",
    "print (f\"Values of R = {r}\")\n",
    "print (f\"Values of Q = {q}\")\n",
    "print (f\"Values of X = {x}\")\n",
    "print (f\"Values of Y = {y} \\n\")\n",
    "\n",
    "#verification block\n",
    "\n",
    "if (gcd==1):\n",
    "    d = a*x[-1] + b*y[-1]\n",
    "    print (f\"GCD = {gcd}\")\n",
    "    print (f\"d = ax + by = {d}\") \n",
    "    if (d==gcd):\n",
    "        print (\"GCD is equal to d\")\n",
    "        \n",
    "else:\n",
    "    d = a*x[-2] + b*y[-2]\n",
    "    print (f\"GCD = {gcd}\")\n",
    "    print (f\"d = ax + by = {d}\") \n",
    "    if (d==gcd):\n",
    "        print (\"GCD is equal to d\")\n"
   ]
  },
  {
   "cell_type": "markdown",
   "metadata": {},
   "source": [
    "## Chinese Remainder theorem"
   ]
  },
  {
   "cell_type": "code",
   "execution_count": 28,
   "metadata": {},
   "outputs": [],
   "source": [
    "def find_gcd(x, y): \n",
    "    while(y): \n",
    "        x, y = y, x % y \n",
    "  \n",
    "    return x "
   ]
  },
  {
   "cell_type": "code",
   "execution_count": 29,
   "metadata": {},
   "outputs": [
    {
     "name": "stdout",
     "output_type": "stream",
     "text": [
      "GCD =  1\n",
      "M = 10010\n",
      "M1 = 1001\n",
      "M2 = 770\n",
      "M3 = 1430\n",
      "M4 = 910\n"
     ]
    }
   ],
   "source": [
    "import math\n",
    "\n",
    "m1 = 10\n",
    "m2 = 13\n",
    "m3 = 7\n",
    "m4 = 11\n",
    "\n",
    "l = [m1, m2, m3, m4] \n",
    "  \n",
    "num1=l[0] \n",
    "num2=l[1] \n",
    "gcd=find_gcd(num1,num2) \n",
    "  \n",
    "for i in range(2,len(l)): \n",
    "    gcd=find_gcd(gcd,l[i]) \n",
    "      \n",
    "print(\"GCD = \",gcd) \n",
    "\n",
    "a1 = 4\n",
    "a2 = 6\n",
    "a3 = 4\n",
    "a4 = 2\n",
    "\n",
    "M = m1*m2*m3*m4\n",
    "print (\"M =\",M)\n",
    "\n",
    "\n",
    "M1 = M//m1\n",
    "M2 = M//m2\n",
    "M3 = M//m3\n",
    "M4 = M//m4\n",
    "print (\"M1 =\",M1)\n",
    "print (\"M2 =\",M2)\n",
    "print (\"M3 =\",M3)\n",
    "print (\"M4 =\",M4)\n",
    "\n"
   ]
  },
  {
   "cell_type": "code",
   "execution_count": 30,
   "metadata": {},
   "outputs": [
    {
     "name": "stdout",
     "output_type": "stream",
     "text": [
      "Multiplicative inverse of 1001 mod 10 exists!\n",
      "It is 1 \n",
      "\n",
      "Multiplicative inverse of 770 mod 13 exists!\n",
      "It is 9 \n",
      "\n",
      "Multiplicative inverse of 1430 mod 7 exists!\n",
      "It is 4 \n",
      "\n",
      "Multiplicative inverse of 910 mod 11 exists!\n",
      "It is 7 \n",
      "\n",
      "A = (4*1001*1 + 6*770*9 + 4*1430*4 + 2*910*7) % 10010\n",
      "A = 1124\n"
     ]
    }
   ],
   "source": [
    "M1_gcd,r1,q1,x1,y1,M1_inv = ext_euclidean (m1,M1)\n",
    "M2_gcd,r2,q2,x2,y2,M2_inv = ext_euclidean (m2,M2)\n",
    "M3_gcd,r3,q3,x3,y3,M3_inv = ext_euclidean (m3,M3)\n",
    "M4_gcd,r4,q4,x4,y4,M4_inv = ext_euclidean (m4,M4)\n",
    "\n",
    "\n",
    "print (f\"A = ({a1}*{M1}*{M1_inv} + {a2}*{M2}*{M2_inv} + {a3}*{M3}*{M3_inv} + {a4}*{M4}*{M4_inv}) % {M}\")\n",
    "A = (a1*M1*M1_inv + a2*M2*M2_inv + a3*M3*M3_inv + a4*M4*M4_inv) % M\n",
    "print (\"A =\",A)"
   ]
  },
  {
   "cell_type": "markdown",
   "metadata": {},
   "source": [
    "## CONCLUSIONS\n",
    "\n",
    "In arithmetic and computer programming, the extended Euclidean algorithm is an extension to the Euclidean algorithm, and computes, in addition to the greatest common divisor (gcd) of integers a and b, also the coefficients of Bézout's identity, which are integers x and y such that \n",
    "\n",
    "ax + by = gcd (a,b)\n",
    "\n",
    "The extended Euclidean algorithm is particularly useful when a and b are coprime. With that provision, x is the modular multiplicative inverse of a modulo b, and y is the modular multiplicative inverse of b modulo a.\n",
    "Extended Euclidean algorithms are widely used in cryptography. In particular, the computation of the modular multiplicative inverse is an essential step in the derivation of key-pairs in the RSA public-key encryption method.\n",
    "\n",
    "\n",
    "The Chinese remainder theorem states that if one knows the remainders of the Euclidean division of an integer n by several integers, then one can determine uniquely the remainder of the division of n by the product of these integers, under the condition that the divisors are pairwise coprime. The Chinese remainder theorem is widely used for computing with large integers, as it allows replacing a computation for which one knows a bound on the size of the result by several similar computations on small integers.\n",
    "\n",
    "It is useful in speeding up operations in the RSA public key scheme. "
   ]
  },
  {
   "cell_type": "code",
   "execution_count": null,
   "metadata": {},
   "outputs": [],
   "source": []
  }
 ],
 "metadata": {
  "kernelspec": {
   "display_name": "Python 3",
   "language": "python",
   "name": "python3"
  },
  "language_info": {
   "codemirror_mode": {
    "name": "ipython",
    "version": 3
   },
   "file_extension": ".py",
   "mimetype": "text/x-python",
   "name": "python",
   "nbconvert_exporter": "python",
   "pygments_lexer": "ipython3",
   "version": "3.7.4"
  }
 },
 "nbformat": 4,
 "nbformat_minor": 4
}
