{
 "cells": [
  {
   "cell_type": "markdown",
   "metadata": {},
   "source": [
    "Name - Dhruvit Jain\n",
    "\n",
    "Branch/Stream - B. Tech ExTC\n",
    "\n",
    "Semester - 8\n",
    "\n",
    "DENS Lab Number - 2\n",
    "\n",
    "Date of performance - 18/12/2020\n",
    "\n",
    "Date of submission - 18/12/2020\n",
    "\n",
    "Aim - To implement Cryptanalysis on traditional cipher"
   ]
  },
  {
   "cell_type": "code",
   "execution_count": 186,
   "metadata": {},
   "outputs": [],
   "source": [
    "import string"
   ]
  },
  {
   "cell_type": "code",
   "execution_count": 187,
   "metadata": {},
   "outputs": [
    {
     "name": "stdout",
     "output_type": "stream",
     "text": [
      "abcdefghijklmnopqrstuvwxyzABCDEFGHIJKLMNOPQRSTUVWXYZ0123456789 !\"#$%&'()*+,-./:;<=>?@[\\]^_`{|}~\n",
      "95\n"
     ]
    }
   ],
   "source": [
    "#this block takes into account all the possible characters we may encounter during encryption\n",
    "#letters, numbers, whitespace and special characters all are included\n",
    "\n",
    "letter_values = string.ascii_letters + string.digits + \" \" + string.punctuation\n",
    "print (letter_values)\n",
    "n = len(letter_values)\n",
    "print (n)"
   ]
  },
  {
   "cell_type": "code",
   "execution_count": 188,
   "metadata": {},
   "outputs": [],
   "source": [
    "#function to encrypt using caesar encryption, which is when key=3\n",
    "\n",
    "def caesar (plain_text,key):\n",
    "    print (\"\\n\")\n",
    "    print (\"This is the condition for Caesar Encryption!\")\n",
    "    print (\"\\n\")\n",
    "\n",
    "    cipher_text=\"\"\n",
    "    for character in plain_text:\n",
    "        if character in letter_values:\n",
    "            temp=dict1[character]\n",
    "            cipher_text+=temp       \n",
    "    return cipher_text\n",
    "\n",
    "#function to normally encrypt using any key value except 3    \n",
    "\n",
    "def ciphering (plain_text,key):\n",
    "    cipher_text=\"\"\n",
    "    for character in plain_text:\n",
    "        if character in letter_values:\n",
    "            temp=dict1[character]\n",
    "            cipher_text+=temp        \n",
    "    return cipher_text\n"
   ]
  },
  {
   "cell_type": "code",
   "execution_count": 189,
   "metadata": {},
   "outputs": [
    {
     "name": "stdout",
     "output_type": "stream",
     "text": [
      "Enter key: 10\n",
      "\n",
      "\n",
      "Enter plaintext: dhruvit jain is coding\n",
      "\n",
      "\n",
      "The following shows the dictionary which is used for substituton: \n",
      "\n",
      "\n",
      "{'a': 'k', 'b': 'l', 'c': 'm', 'd': 'n', 'e': 'o', 'f': 'p', 'g': 'q', 'h': 'r', 'i': 's', 'j': 't', 'k': 'u', 'l': 'v', 'm': 'w', 'n': 'x', 'o': 'y', 'p': 'z', 'q': 'A', 'r': 'B', 's': 'C', 't': 'D', 'u': 'E', 'v': 'F', 'w': 'G', 'x': 'H', 'y': 'I', 'z': 'J', 'A': 'K', 'B': 'L', 'C': 'M', 'D': 'N', 'E': 'O', 'F': 'P', 'G': 'Q', 'H': 'R', 'I': 'S', 'J': 'T', 'K': 'U', 'L': 'V', 'M': 'W', 'N': 'X', 'O': 'Y', 'P': 'Z', 'Q': '0', 'R': '1', 'S': '2', 'T': '3', 'U': '4', 'V': '5', 'W': '6', 'X': '7', 'Y': '8', 'Z': '9', '0': ' ', '1': '!', '2': '\"', '3': '#', '4': '$', '5': '%', '6': '&', '7': \"'\", '8': '(', '9': ')', ' ': '*', '!': '+', '\"': ',', '#': '-', '$': '.', '%': '/', '&': ':', \"'\": ';', '(': '<', ')': '=', '*': '>', '+': '?', ',': '@', '-': '[', '.': '\\\\', '/': ']', ':': '^', ';': '_', '<': '`', '=': '{', '>': '|', '?': '}', '@': '~', '[': 'a', '\\\\': 'b', ']': 'c', '^': 'd', '_': 'e', '`': 'f', '{': 'g', '|': 'h', '}': 'i', '~': 'j'}\n",
      "The following is the encrypted text: \n",
      "nrBEFsD*tksx*sC*mynsxq\n"
     ]
    }
   ],
   "source": [
    "#Input key and plaintext from user\n",
    "\n",
    "dict1 = {}\n",
    "key = int (input(\"Enter key: \"))\n",
    "print (\"\\n\")\n",
    "plain_text = input (\"Enter plaintext: \")\n",
    "print (\"\\n\")\n",
    "for i in range(n):\n",
    "        dict1[letter_values[i]] = letter_values[(i+key)%n] #create the required key and value dictionary for encryption\n",
    "    \n",
    "print (\"The following shows the dictionary which is used for substituton: \")\n",
    "print (\"\\n\")\n",
    "print (dict1)\n",
    "\n",
    "#check for key value to decide caesar encryption or normal\n",
    "\n",
    "if key ==3:\n",
    "    a = caesar (plain_text,key)\n",
    "    print (\"The following is the encrypted text: \")\n",
    "    print (a)\n",
    "\n",
    "else:\n",
    "    a = ciphering (plain_text,key)\n",
    "    print (\"The following is the encrypted text: \")\n",
    "    print (a)"
   ]
  },
  {
   "cell_type": "code",
   "execution_count": 190,
   "metadata": {},
   "outputs": [
    {
     "name": "stdout",
     "output_type": "stream",
     "text": [
      "They argue. While the argument seems to be different the truth is it's always the same. Yes, the topic may be different or the circumstances, but when all said and done, it all came back to the same thing. They both knew it, but neither has the courage or strength to address the underlying issue. So they continue to argue.\n",
      "10\n",
      "The following is the encrypted text: \n",
      "3roI*kBqEo\\*6rsvo*Dro*kBqEwoxD*CoowC*Dy*lo*nsppoBoxD*Dro*DBEDr*sC*sD;C*kvGkIC*Dro*Ckwo\\*8oC@*Dro*Dyzsm*wkI*lo*nsppoBoxD*yB*Dro*msBmEwCDkxmoC@*lED*Grox*kvv*Cksn*kxn*nyxo@*sD*kvv*mkwo*lkmu*Dy*Dro*Ckwo*Drsxq\\*3roI*lyDr*uxoG*sD@*lED*xosDroB*rkC*Dro*myEBkqo*yB*CDBoxqDr*Dy*knnBoCC*Dro*ExnoBvIsxq*sCCEo\\*2y*DroI*myxDsxEo*Dy*kBqEo\\\n"
     ]
    }
   ],
   "source": [
    "#with this block, we open a text file which consists a normal paragraph in english language\n",
    "#and readd all the characters and store it in a string\n",
    "with open ('demo.txt',mode='r') as f:\n",
    "    str1 = f.read()\n",
    "plain_text1 = str1\n",
    "print (plain_text1)\n",
    "\n",
    "#the above string is passed as the plaintext to be encrypted to the above defined functions  \n",
    "if key ==3:\n",
    "    a1 = caesar (plain_text1,key)\n",
    "    print (\"The following is the encrypted text: \")\n",
    "    print (a)\n",
    "\n",
    "else:\n",
    "    print (key)\n",
    "    a1 = ciphering (plain_text1,key)\n",
    "    print (\"The following is the encrypted text: \")\n",
    "    print (a1)\n",
    "    \n",
    "with open ('encrypted.txt', mode='w') as my_file: #creates a new txt file which stores encrypted text\n",
    "    text = my_file.write(a1)\n"
   ]
  },
  {
   "cell_type": "code",
   "execution_count": 191,
   "metadata": {},
   "outputs": [
    {
     "name": "stdout",
     "output_type": "stream",
     "text": [
      "Encrypted text is: nrBEFsD*tksx*sC*mynsxq\n",
      "\n",
      "\n",
      "Decrypted text for key 1 is : mqADErC)sjrw)rB)lxmrwp\n",
      "Decrypted text for key 2 is : lpzCDqB(riqv(qA(kwlqvo\n",
      "Decrypted text for key 3 is : koyBCpA'qhpu'pz'jvkpun\n",
      "Decrypted text for key 4 is : jnxABoz&pgot&oy&iujotm\n",
      "Decrypted text for key 5 is : imwzAny%ofns%nx%htinsl\n",
      "Decrypted text for key 6 is : hlvyzmx$nemr$mw$gshmrk\n",
      "Decrypted text for key 7 is : gkuxylw#mdlq#lv#frglqj\n",
      "Decrypted text for key 8 is : fjtwxkv\"lckp\"ku\"eqfkpi\n",
      "Decrypted text for key 9 is : eisvwju!kbjo!jt!dpejoh\n",
      "\n",
      "\n",
      "Decrypted text for key 10 is : dhruvit jain is coding\n",
      "This is the decrypted text which was encrypted with key 10.\n",
      "\n",
      "\n",
      "Decrypted text for key 11 is : cgqtuhs9i~hm9hr9bnchmf\n",
      "Decrypted text for key 12 is : bfpstgr8h}gl8gq8ambgle\n",
      "Decrypted text for key 13 is : aeorsfq7g|fk7fp7~lafkd\n",
      "Decrypted text for key 14 is : ~dnqrep6f{ej6eo6}k~ejc\n",
      "Decrypted text for key 15 is : }cmpqdo5e`di5dn5|j}dib\n",
      "Decrypted text for key 16 is : |blopcn4d_ch4cm4{i|cha\n",
      "Decrypted text for key 17 is : {aknobm3c^bg3bl3`h{bg~\n",
      "Decrypted text for key 18 is : `~jmnal2b]af2ak2_g`af}\n",
      "Decrypted text for key 19 is : _}ilm~k1a\\~e1~j1^f_~e|\n",
      "Decrypted text for key 20 is : ^|hkl}j0~[}d0}i0]e^}d{\n",
      "Decrypted text for key 21 is : ]{gjk|iZ}@|cZ|hZ\\d]|c`\n",
      "Decrypted text for key 22 is : \\`fij{hY|?{bY{gY[c\\{b_\n",
      "Decrypted text for key 23 is : [_ehi`gX{>`aX`fX@b[`a^\n",
      "Decrypted text for key 24 is : @^dgh_fW`=_~W_eW?a@_~]\n",
      "Decrypted text for key 25 is : ?]cfg^eV_<^}V^dV>~?^}\\\n",
      "Decrypted text for key 26 is : >\\bef]dU^;]|U]cU=}>]|[\n",
      "Decrypted text for key 27 is : =[ade\\cT]:\\{T\\bT<|=\\{@\n",
      "Decrypted text for key 28 is : <@~cd[bS\\/[`S[aS;{<[`?\n",
      "Decrypted text for key 29 is : ;?}bc@aR[.@_R@~R:`;@_>\n",
      "Decrypted text for key 30 is : :>|ab?~Q@-?^Q?}Q/_:?^=\n",
      "Decrypted text for key 31 is : /={~a>}P?,>]P>|P.^/>]<\n",
      "Decrypted text for key 32 is : .<`}~=|O>+=\\O={O-].=\\;\n",
      "Decrypted text for key 33 is : -;_|}<{N=*<[N<`N,\\-<[:\n",
      "Decrypted text for key 34 is : ,:^{|;`M<);@M;_M+[,;@/\n",
      "Decrypted text for key 35 is : +/]`{:_L;(:?L:^L*@+:?.\n",
      "Decrypted text for key 36 is : *.\\_`/^K:'/>K/]K)?*/>-\n",
      "Decrypted text for key 37 is : )-[^_.]J/&.=J.\\J(>).=,\n",
      "Decrypted text for key 38 is : (,@]^-\\I.%-<I-[I'=(-<+\n",
      "Decrypted text for key 39 is : '+?\\],[H-$,;H,@H&<',;*\n",
      "Decrypted text for key 40 is : &*>[\\+@G,#+:G+?G%;&+:)\n",
      "Decrypted text for key 41 is : %)=@[*?F+\"*/F*>F$:%*/(\n",
      "Decrypted text for key 42 is : $(<?@)>E*!).E)=E#/$).'\n",
      "Decrypted text for key 43 is : #';>?(=D) (-D(<D\".#(-&\n",
      "Decrypted text for key 44 is : \"&:=>'<C(9',C';C!-\"',%\n",
      "Decrypted text for key 45 is : !%/<=&;B'8&+B&:B ,!&+$\n",
      "Decrypted text for key 46 is :  $.;<%:A&7%*A%/A9+ %*#\n",
      "Decrypted text for key 47 is : 9#-:;$/z%6$)z$.z8*9$)\"\n",
      "Decrypted text for key 48 is : 8\",/:#.y$5#(y#-y7)8#(!\n",
      "Decrypted text for key 49 is : 7!+./\"-x#4\"'x\",x6(7\"' \n",
      "Decrypted text for key 50 is : 6 *-.!,w\"3!&w!+w5'6!&9\n",
      "Decrypted text for key 51 is : 59),- +v!2 %v *v4&5 %8\n",
      "Decrypted text for key 52 is : 48(+,9*u 19$u9)u3%49$7\n",
      "Decrypted text for key 53 is : 37'*+8)t908#t8(t2$38#6\n",
      "Decrypted text for key 54 is : 26&)*7(s8Z7\"s7's1#27\"5\n",
      "Decrypted text for key 55 is : 15%()6'r7Y6!r6&r0\"16!4\n",
      "Decrypted text for key 56 is : 04$'(5&q6X5 q5%qZ!05 3\n",
      "Decrypted text for key 57 is : Z3#&'4%p5W49p4$pY Z492\n",
      "Decrypted text for key 58 is : Y2\"%&3$o4V38o3#oX9Y381\n",
      "Decrypted text for key 59 is : X1!$%2#n3U27n2\"nW8X270\n",
      "Decrypted text for key 60 is : W0 #$1\"m2T16m1!mV7W16Z\n",
      "Decrypted text for key 61 is : VZ9\"#0!l1S05l0 lU6V05Y\n",
      "Decrypted text for key 62 is : UY8!\"Z k0RZ4kZ9kT5UZ4X\n",
      "Decrypted text for key 63 is : TX7 !Y9jZQY3jY8jS4TY3W\n",
      "Decrypted text for key 64 is : SW69 X8iYPX2iX7iR3SX2V\n",
      "Decrypted text for key 65 is : RV589W7hXOW1hW6hQ2RW1U\n",
      "Decrypted text for key 66 is : QU478V6gWNV0gV5gP1QV0T\n",
      "Decrypted text for key 67 is : PT367U5fVMUZfU4fO0PUZS\n",
      "Decrypted text for key 68 is : OS256T4eULTYeT3eNZOTYR\n",
      "Decrypted text for key 69 is : NR145S3dTKSXdS2dMYNSXQ\n",
      "Decrypted text for key 70 is : MQ034R2cSJRWcR1cLXMRWP\n",
      "Decrypted text for key 71 is : LPZ23Q1bRIQVbQ0bKWLQVO\n",
      "Decrypted text for key 72 is : KOY12P0aQHPUaPZaJVKPUN\n",
      "Decrypted text for key 73 is : JNX01OZ~PGOT~OY~IUJOTM\n",
      "Decrypted text for key 74 is : IMWZ0NY}OFNS}NX}HTINSL\n",
      "Decrypted text for key 75 is : HLVYZMX|NEMR|MW|GSHMRK\n",
      "Decrypted text for key 76 is : GKUXYLW{MDLQ{LV{FRGLQJ\n",
      "Decrypted text for key 77 is : FJTWXKV`LCKP`KU`EQFKPI\n",
      "Decrypted text for key 78 is : EISVWJU_KBJO_JT_DPEJOH\n",
      "Decrypted text for key 79 is : DHRUVIT^JAIN^IS^CODING\n",
      "Decrypted text for key 80 is : CGQTUHS]IzHM]HR]BNCHMF\n",
      "Decrypted text for key 81 is : BFPSTGR\\HyGL\\GQ\\AMBGLE\n",
      "Decrypted text for key 82 is : AEORSFQ[GxFK[FP[zLAFKD\n",
      "Decrypted text for key 83 is : zDNQREP@FwEJ@EO@yKzEJC\n",
      "Decrypted text for key 84 is : yCMPQDO?EvDI?DN?xJyDIB\n",
      "Decrypted text for key 85 is : xBLOPCN>DuCH>CM>wIxCHA\n",
      "Decrypted text for key 86 is : wAKNOBM=CtBG=BL=vHwBGz\n",
      "Decrypted text for key 87 is : vzJMNAL<BsAF<AK<uGvAFy\n",
      "Decrypted text for key 88 is : uyILMzK;ArzE;zJ;tFuzEx\n",
      "Decrypted text for key 89 is : txHKLyJ:zqyD:yI:sEtyDw\n",
      "Decrypted text for key 90 is : swGJKxI/ypxC/xH/rDsxCv\n",
      "Decrypted text for key 91 is : rvFIJwH.xowB.wG.qCrwBu\n",
      "Decrypted text for key 92 is : quEHIvG-wnvA-vF-pBqvAt\n",
      "Decrypted text for key 93 is : ptDGHuF,vmuz,uE,oApuzs\n",
      "Decrypted text for key 94 is : osCFGtE+ulty+tD+nzotyr\n",
      "Decrypted text for key 95 is : nrBEFsD*tksx*sC*mynsxq\n"
     ]
    }
   ],
   "source": [
    "def decryption (ciphered,key1):\n",
    "    decipher_text=\"\"\n",
    "    for character in ciphered:\n",
    "        if character in letter_values:\n",
    "            temp=dict2[character]\n",
    "            decipher_text+=temp\n",
    "    return decipher_text\n",
    "\n",
    "\n",
    "print (f\"Encrypted text is: {a}\")\n",
    "print (\"\\n\")\n",
    "for k in range (1,n+1): \n",
    "    dict2={}\n",
    "    for i in range(len(letter_values)):\n",
    "            dict2[letter_values[i]]= letter_values[(i-k)%n] #create the required key and value dictionary for decryption\n",
    "    b = decryption (a, k)\n",
    "    if (b==plain_text):\n",
    "        print (\"\\n\")\n",
    "        print (f\"Decrypted text for key {k} is : {b}\")\n",
    "        print (f\"This is the decrypted text which was encrypted with key {k}.\")\n",
    "        print (\"\\n\")\n",
    "    else:\n",
    "        print (f\"Decrypted text for key {k} is : {b}\")\n"
   ]
  },
  {
   "cell_type": "code",
   "execution_count": 192,
   "metadata": {},
   "outputs": [
    {
     "name": "stdout",
     "output_type": "stream",
     "text": [
      "Encrypted text is: 3roI*kBqEo\\*6rsvo*Dro*kBqEwoxD*CoowC*Dy*lo*nsppoBoxD*Dro*DBEDr*sC*sD;C*kvGkIC*Dro*Ckwo\\*8oC@*Dro*Dyzsm*wkI*lo*nsppoBoxD*yB*Dro*msBmEwCDkxmoC@*lED*Grox*kvv*Cksn*kxn*nyxo@*sD*kvv*mkwo*lkmu*Dy*Dro*Ckwo*Drsxq\\*3roI*lyDr*uxoG*sD@*lED*xosDroB*rkC*Dro*myEBkqo*yB*CDBoxqDr*Dy*knnBoCC*Dro*ExnoBvIsxq*sCCEo\\*2y*DroI*myxDsxEo*Dy*kBqEo\\\n",
      "\n",
      "\n",
      "\n",
      "\n",
      "Decrypted text for key 10 is : They argue. While the argument seems to be different the truth is it's always the same. Yes, the topic may be different or the circumstances, but when all said and done, it all came back to the same thing. They both knew it, but neither has the courage or strength to address the underlying issue. So they continue to argue.\n",
      "\n",
      "\n",
      "This is the decrypted text which was encrypted with key 10.\n",
      "\n",
      "\n"
     ]
    }
   ],
   "source": [
    "def decryption (ciphered,key1):\n",
    "    decipher_text=\"\"\n",
    "    for character in ciphered:\n",
    "        if character in letter_values:\n",
    "            temp=dict2[character]\n",
    "            decipher_text+=temp\n",
    "    return decipher_text\n",
    "\n",
    "with open ('encrypted.txt',mode='r') as f:\n",
    "        a2 = f.read()\n",
    "print (f\"Encrypted text is: {a2}\")\n",
    "print (\"\\n\")\n",
    "for k in range (1,n+1): \n",
    "    dict2={}\n",
    "    for i in range(len(letter_values)):\n",
    "            dict2[letter_values[i]]= letter_values[(i-k)%n] #create the required key and value dictionary for decryption\n",
    "    b2 = decryption (a2, k)\n",
    "    if (b2==plain_text1):\n",
    "        print (\"\\n\")\n",
    "        print (f\"Decrypted text for key {k} is : {b2}\")\n",
    "        print (\"\\n\")\n",
    "        print (f\"This is the decrypted text which was encrypted with key {k}.\")\n",
    "        print (\"\\n\")\n",
    "    else:\n",
    "        pass\n",
    "    "
   ]
  },
  {
   "cell_type": "code",
   "execution_count": 178,
   "metadata": {},
   "outputs": [
    {
     "name": "stdout",
     "output_type": "stream",
     "text": [
      "lps useiaoe  nn\n"
     ]
    }
   ],
   "source": [
    "#Transposition Ciphering\n",
    "#ENCRYPTION\n",
    "\n",
    "'''\n",
    "The input parameters are the message and the secret keyword. \n",
    "The main function, encrypt, uses two helper functions to create the matrix and the keyword sequence of numbers.\n",
    "\n",
    "'''\n",
    "\n",
    "def encrypt(message, keyword):\n",
    "  matrix = createEncMatrix(len(keyword), message)\n",
    "  keywordSequence = getKeywordSequence(keyword)\n",
    "\n",
    "  ciphertext = \"\";\n",
    "  for num in range(len(keywordSequence)):\n",
    "    pos = keywordSequence.index(num+1)\n",
    "    for row in range(len(matrix)):\n",
    "      if len(matrix[row]) > pos:\n",
    "        ciphertext += matrix[row][pos]\n",
    "  return ciphertext\n",
    "\n",
    "\n",
    "def createEncMatrix(width, message):\n",
    "  r = 0\n",
    "  c = 0\n",
    "  matrix = [[]]\n",
    "  for pos, ch in enumerate(message):\n",
    "    matrix[r].append(ch)\n",
    "    c += 1\n",
    "    if c >= width:\n",
    "      c = 0\n",
    "      r += 1\n",
    "      matrix.append([])\n",
    "\n",
    "  return matrix\n",
    "\n",
    "\n",
    "def getKeywordSequence(keyword):\n",
    "  sequence = []\n",
    "  for pos, ch in enumerate(keyword):\n",
    "    previousLetters = keyword[:pos]\n",
    "    newNumber = 1\n",
    "    for previousPos, previousCh in enumerate(previousLetters):\n",
    "      if previousCh > ch:\n",
    "        sequence[previousPos] += 1\n",
    "      else:\n",
    "        newNumber += 1\n",
    "    sequence.append(newNumber)\n",
    "  return sequence\n",
    "\n",
    "string_enc = \"sleep is a noun\"\n",
    "a2 = encrypt (string_enc,\"213\")\n",
    "print (a2)"
   ]
  },
  {
   "cell_type": "code",
   "execution_count": 179,
   "metadata": {},
   "outputs": [
    {
     "data": {
      "text/plain": [
       "'sleep is a noun'"
      ]
     },
     "execution_count": 179,
     "metadata": {},
     "output_type": "execute_result"
    }
   ],
   "source": [
    "#DECRYPTION\n",
    "'''\n",
    "\n",
    "The code written below allows to decrypt Columnar Transposition ciphertext. \n",
    "The input parameters are the message and the secret keyword. \n",
    "The main function, decrypt, uses helper functions to create the matrix and the keyword sequence of numbers.\n",
    "\n",
    "'''\n",
    "\n",
    "def decrypt(message, keyword):\n",
    "  matrix = createDecrMatrix(getKeywordSequence(keyword), message)\n",
    "\n",
    "  plaintext = \"\";\n",
    "  for r in range(len(matrix)):\n",
    "    for c in range (len(matrix[r])):\n",
    "      plaintext += matrix[r][c]\n",
    "  return plaintext\n",
    "\n",
    "\n",
    "def createDecrMatrix(keywordSequence, message):\n",
    "  width = len(keywordSequence)\n",
    "  height = len(message) // width\n",
    "  if height * width < len(message):\n",
    "    height += 1\n",
    "\n",
    "  matrix = createEmptyMatrix(width, height, len(message))\n",
    "\n",
    "  pos = 0\n",
    "  for num in range(len(keywordSequence)):\n",
    "    column = keywordSequence.index(num+1)\n",
    "\n",
    "    r = 0\n",
    "    while (r < len(matrix)) and (len(matrix[r]) > column):\n",
    "      matrix[r][column] = message[pos]\n",
    "      r += 1\n",
    "      pos += 1\n",
    "\n",
    "  return matrix\n",
    "\n",
    "\n",
    "def createEmptyMatrix(width, height, length):\n",
    "  matrix = []\n",
    "  totalAdded = 0\n",
    "  for r in range(height):\n",
    "    matrix.append([])\n",
    "    for c in range(width):\n",
    "      if totalAdded >= length:\n",
    "        return matrix\n",
    "      matrix[r].append('')\n",
    "      totalAdded += 1\n",
    "  return matrix\n",
    "\n",
    "\n",
    "def getKeywordSequence(keyword):\n",
    "  sequence = []\n",
    "  for pos, ch in enumerate(keyword):\n",
    "    previousLetters = keyword[:pos]\n",
    "    newNumber = 1\n",
    "    for previousPos, previousCh in enumerate(previousLetters):\n",
    "      if previousCh > ch:\n",
    "        sequence[previousPos] += 1\n",
    "      else:\n",
    "        newNumber += 1\n",
    "    sequence.append(newNumber)\n",
    "  return sequence\n",
    "\n",
    "decrypt (a2,\"213\")"
   ]
  },
  {
   "cell_type": "code",
   "execution_count": 180,
   "metadata": {},
   "outputs": [
    {
     "name": "stdout",
     "output_type": "stream",
     "text": [
      "6\n"
     ]
    }
   ],
   "source": [
    "from itertools import permutations\n",
    "l = (list(permutations(['1','2','3'],3))) \n",
    "\n",
    "n = len (l)\n",
    "print (n)\n",
    "keys = []\n",
    "for i in range (n):\n",
    "    string1 =  ''.join(l[i])\n",
    "    keys.append (string1)\n",
    "# print (keys)"
   ]
  },
  {
   "cell_type": "code",
   "execution_count": 181,
   "metadata": {},
   "outputs": [
    {
     "name": "stderr",
     "output_type": "stream",
     "text": [
      "[nltk_data] Downloading package words to\n",
      "[nltk_data]     C:\\Users\\dhruv\\AppData\\Roaming\\nltk_data...\n",
      "[nltk_data]   Package words is already up-to-date!\n"
     ]
    },
    {
     "data": {
      "text/plain": [
       "True"
      ]
     },
     "execution_count": 181,
     "metadata": {},
     "output_type": "execute_result"
    }
   ],
   "source": [
    "import nltk\n",
    "nltk.download('words')"
   ]
  },
  {
   "cell_type": "code",
   "execution_count": 182,
   "metadata": {},
   "outputs": [],
   "source": [
    "from nltk.corpus import words\n",
    "wordlist = words.words()"
   ]
  },
  {
   "cell_type": "code",
   "execution_count": 184,
   "metadata": {},
   "outputs": [
    {
     "name": "stdout",
     "output_type": "stream",
     "text": [
      "Message with key 213 = sleep is a noun\n"
     ]
    }
   ],
   "source": [
    "for k in range (len(keys)):\n",
    "    l = decrypt (a2,keys[k])\n",
    "    count = 0\n",
    "    list1 = l.split(\" \")\n",
    "    for word in list1:\n",
    "        if word in words.words():\n",
    "            count+=1\n",
    "            if count==len(list1):\n",
    "                print (f\"Message with key {keys[k]} = {l}\")\n",
    "                break\n",
    "\n",
    "    if count==len(list1):\n",
    "      break"
   ]
  },
  {
   "cell_type": "markdown",
   "metadata": {},
   "source": [
    "CONCLUSION:\n",
    "\n",
    "cryptanalysis is the science and art of breaking those codes. We need to learn cryptanalysis techniques to understand the vulnerability of our cryptosystem which enables us to strengthen it. The common cryptanalysis attacks are: ciphertext-only, known-plaintext, chosen-plaintext, chosen-ciphertext.\n",
    "\n",
    "In ciphertext-only attack, the attacker has access to only some cipher text. The attacker tries to find the corresponding key and plain text. The assumption is that the attacker knows the algorithm and can intercept the cipher text, which is what we have done in this experiment. \n",
    "\n",
    "In Brute-Force Attack or exhaustive-key-search method, the attacker tries to use all the possible keys. We assume that the algorithm and the key domain (the list of all possible keys) are known to the attacker. Using the intercepted cipher, the attacker decrypts the cipher text with every possible key until the plain text makes sense. To prevent this attack, the number of possible keys must be very large. "
   ]
  },
  {
   "cell_type": "code",
   "execution_count": null,
   "metadata": {},
   "outputs": [],
   "source": []
  }
 ],
 "metadata": {
  "kernelspec": {
   "display_name": "Python 3",
   "language": "python",
   "name": "python3"
  },
  "language_info": {
   "codemirror_mode": {
    "name": "ipython",
    "version": 3
   },
   "file_extension": ".py",
   "mimetype": "text/x-python",
   "name": "python",
   "nbconvert_exporter": "python",
   "pygments_lexer": "ipython3",
   "version": "3.7.4"
  }
 },
 "nbformat": 4,
 "nbformat_minor": 4
}
