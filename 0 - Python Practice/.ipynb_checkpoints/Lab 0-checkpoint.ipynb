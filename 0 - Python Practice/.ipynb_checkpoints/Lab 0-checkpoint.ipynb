{
 "cells": [
  {
   "cell_type": "markdown",
   "metadata": {},
   "source": [
    "Name - Dhruvit Jain\n",
    "\n",
    "Branch/Stream - B. Tech ExTC\n",
    "\n",
    "Semester - 7\n",
    "\n",
    "DENS Lab Number - 0\n",
    "\n",
    "Date of performance - 04/12/2020\n",
    "\n",
    "Date of submission - 04/12/2020"
   ]
  },
  {
   "cell_type": "code",
   "execution_count": 56,
   "metadata": {},
   "outputs": [
    {
     "name": "stdout",
     "output_type": "stream",
     "text": [
      "nhruvit JaiD\n"
     ]
    }
   ],
   "source": [
    "#1 first and last character\n",
    "string1 = \"Dhruvit Jain\"\n",
    "n1 = len (string1)\n",
    "first = string1[0]\n",
    "last = string1[-1]\n",
    "final_string = last+string1[1:n1-1]+first\n",
    "print (final_string)"
   ]
  },
  {
   "cell_type": "code",
   "execution_count": 57,
   "metadata": {},
   "outputs": [
    {
     "name": "stdout",
     "output_type": "stream",
     "text": [
      "[6, 5, 4, 3, 2, 1]\n",
      "654321\n"
     ]
    }
   ],
   "source": [
    "#reverse a number \n",
    "n1 = 123456\n",
    "l1=[]\n",
    "while n1>0:\n",
    "    a = n1%10\n",
    "    l1.append(a)\n",
    "    n1=n1//10\n",
    "print (l1)\n",
    "\n",
    "n2 = ''.join([str(elem) for elem in l1])\n",
    "print (n2)\n",
    "n2=int (n2)\n"
   ]
  },
  {
   "cell_type": "code",
   "execution_count": 58,
   "metadata": {},
   "outputs": [
    {
     "name": "stdout",
     "output_type": "stream",
     "text": [
      "[0, 1, 22, 48, 78, 89, 440, 5467, 8900, 55667]\n",
      "2nd minimum:\n",
      "1\n",
      "2nd maximum:\n",
      "8900\n"
     ]
    }
   ],
   "source": [
    "#3.\tTo write a program to print 2nd maximum and 2nd minimum number in the list using list sort()\n",
    "\n",
    "list1 = [22,440,55667,78,89,8900,5467,0,1,48]\n",
    "list1.sort()\n",
    "print (list1)\n",
    "\n",
    "print (\"2nd minimum:\")\n",
    "print (list1[1])\n",
    "print (\"2nd maximum:\")\n",
    "print (list1[-2])"
   ]
  },
  {
   "cell_type": "code",
   "execution_count": 59,
   "metadata": {},
   "outputs": [
    {
     "name": "stdout",
     "output_type": "stream",
     "text": [
      "[21, 36, 56, 96, 99]\n"
     ]
    }
   ],
   "source": [
    "#4.\tTo write a program to print the numbers which are not multiple of 5 in the given list using list append()\n",
    "\n",
    "list1 = [5,10,15,21,36,40,45,56,70,80,96,99]\n",
    "list2=[]\n",
    "for elem in list1:\n",
    "    if elem % 5 !=0:\n",
    "        list2.append (elem)\n",
    "print (list2)"
   ]
  },
  {
   "cell_type": "code",
   "execution_count": 60,
   "metadata": {},
   "outputs": [
    {
     "name": "stdout",
     "output_type": "stream",
     "text": [
      "[[0 0 0 0]\n",
      " [0 0 0 0]\n",
      " [0 0 0 0]\n",
      " [0 0 0 0]]\n",
      "\n",
      "[0 0 0 0]\n",
      "\n",
      "[[0 0 0 0 0 0 0 0]\n",
      " [0 0 0 0 0 0 0 0]]\n"
     ]
    }
   ],
   "source": [
    "#5.\tNumpy\n",
    "import numpy as np\n",
    "\n",
    "#a.\tCreating 4X4 numpy array\n",
    "a1 = np.zeros((4,4)).astype(int)\n",
    "print (a1)\n",
    "print (\"\")\n",
    "#b.\tExtract all the elements of 3rd row from a 4x4 array\n",
    "print (a1[3,])\n",
    "print (\"\")\n",
    "\n",
    "#c.\tReshape the original 4X4 array to 2X8 array\n",
    "a2 = a1.reshape(2,8)\n",
    "print (a2)"
   ]
  },
  {
   "cell_type": "code",
   "execution_count": 61,
   "metadata": {},
   "outputs": [
    {
     "name": "stdout",
     "output_type": "stream",
     "text": [
      "14\n"
     ]
    }
   ],
   "source": [
    "#6.\tWrite a function called add_int that will take two integers as input and return its sum as output\n",
    "def add_int (a,b):\n",
    "    return (a+b)\n",
    "\n",
    "sum1 = add_int(5,9)\n",
    "print (sum1)"
   ]
  },
  {
   "cell_type": "code",
   "execution_count": 64,
   "metadata": {},
   "outputs": [
    {
     "name": "stdout",
     "output_type": "stream",
     "text": [
      "{'a': 1, 'b': 2, 'c': 3, 'd': 4, 'e': 5, 'f': 6}\n"
     ]
    }
   ],
   "source": [
    "#7.\tTo write a Python program to create a dictionary\n",
    "dict1 = {'a':1, 'b':2, 'c':3, 'd':4, 'e':5, 'f':6}\n",
    "print (dict1)\n",
    "\n",
    "a1= ['a','b','c','d','e','f']\n",
    "b1= [1,2,3,4,5,6]"
   ]
  },
  {
   "cell_type": "code",
   "execution_count": 53,
   "metadata": {},
   "outputs": [
    {
     "name": "stdout",
     "output_type": "stream",
     "text": [
      "dict_keys(['a', 'b', 'c', 'd', 'e', 'f'])\n",
      "dict_values([1, 2, 3, 4, 5, 6])\n"
     ]
    }
   ],
   "source": [
    "#8.\tTo write a Python program to print keys and values of the dictionary using dict.keys(), dict.items()\n",
    "print (dict1.keys())\n",
    "print (dict1.values())"
   ]
  },
  {
   "cell_type": "code",
   "execution_count": null,
   "metadata": {},
   "outputs": [],
   "source": []
  }
 ],
 "metadata": {
  "kernelspec": {
   "display_name": "Python 3",
   "language": "python",
   "name": "python3"
  },
  "language_info": {
   "codemirror_mode": {
    "name": "ipython",
    "version": 3
   },
   "file_extension": ".py",
   "mimetype": "text/x-python",
   "name": "python",
   "nbconvert_exporter": "python",
   "pygments_lexer": "ipython3",
   "version": "3.7.4"
  }
 },
 "nbformat": 4,
 "nbformat_minor": 4
}
