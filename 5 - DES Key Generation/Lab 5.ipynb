{
 "cells": [
  {
   "cell_type": "markdown",
   "metadata": {},
   "source": [
    "Name - Dhruvit Jain\n",
    "\n",
    "Branch/Stream - B. Tech ExTC\n",
    "\n",
    "Semester - 8\n",
    "\n",
    "DENS Lab Number - 5\n",
    "\n",
    "Date of performance - 05/02/2021\n",
    "\n",
    "Date of submission - 05/02/2021\n",
    "\n",
    "Aim - To generate subkeys for 16 rounds of DES"
   ]
  },
  {
   "cell_type": "code",
   "execution_count": 1,
   "metadata": {},
   "outputs": [
    {
     "name": "stdout",
     "output_type": "stream",
     "text": [
      "Length of key will be 64\n"
     ]
    }
   ],
   "source": [
    "import random\n",
    "\n",
    "#function to generate key of 64 length\n",
    "def keygen (n):\n",
    "    key=[]\n",
    "    for i in range (1,n+1):\n",
    "        temp = i\n",
    "        key.append(temp)\n",
    "    return key\n",
    "\n",
    "k=keygen(64)\n",
    "print (\"Length of key will be\",len(k))"
   ]
  },
  {
   "cell_type": "code",
   "execution_count": 2,
   "metadata": {},
   "outputs": [],
   "source": [
    "#Permutation choice 1\n",
    "pc1 = [57,49,41,33,25,17,9,\n",
    "      1,58,50,42,34,26,18,\n",
    "      10,2,59,51,43,35,27,\n",
    "      19,11,3,60,52,44,36,\n",
    "      63,55,47,39,31,23,15,\n",
    "      7,62,54,46,38,30,22,\n",
    "      14,6,61,53,45,37,29,\n",
    "      21,13,25,28,20,12,4]\n",
    "\n",
    "#Permutation choice 2\n",
    "pc2 = [14,17,11,24,1,5,3,28,\n",
    "       15,6,21,10,23,19,12,4,\n",
    "       26,8,16,7, 27,20,13,2,\n",
    "       41,52,31,37,47,55,30,40,\n",
    "       51,45,33,48,44,49,39,56,\n",
    "       34,53,46,42,50,36,29,32]"
   ]
  },
  {
   "cell_type": "code",
   "execution_count": 3,
   "metadata": {},
   "outputs": [
    {
     "data": {
      "text/plain": [
       "array([ 1,  2,  3,  4,  5,  6,  7,  8,  9, 10, 11, 12, 13, 14, 15, 16, 17,\n",
       "       18, 19, 20, 21, 22, 23, 24, 25, 26, 27, 28, 29, 30, 31, 32, 33, 34,\n",
       "       35, 36, 37, 38, 39, 40, 41, 42, 43, 44, 45, 46, 47, 48, 49, 50, 51,\n",
       "       52, 53, 54, 55, 56, 57, 58, 59, 60, 61, 62, 63, 64])"
      ]
     },
     "execution_count": 3,
     "metadata": {},
     "output_type": "execute_result"
    }
   ],
   "source": [
    "import numpy as np\n",
    "\n",
    "#generating key of 64 length\n",
    "k1 = keygen (64)\n",
    "k1 = np.array(k1)\n",
    "k1"
   ]
  },
  {
   "cell_type": "code",
   "execution_count": 4,
   "metadata": {},
   "outputs": [
    {
     "name": "stdout",
     "output_type": "stream",
     "text": [
      "[57, 49, 41, 33, 25, 17, 9, 1, 58, 50, 42, 34, 26, 18, 10, 2, 59, 51, 43, 35, 27, 19, 11, 3, 60, 52, 44, 36, 63, 55, 47, 39, 31, 23, 15, 7, 62, 54, 46, 38, 30, 22, 14, 6, 61, 53, 45, 37, 29, 21, 13, 25, 28, 20, 12, 4]\n",
      "56\n"
     ]
    }
   ],
   "source": [
    "#Initial permutation to convert 64 bits to 56 bits\n",
    "\n",
    "key1 = []\n",
    "for k in range (0,56):\n",
    "    temp = pc1[k]\n",
    "    key1.append (temp)\n",
    "\n",
    "print (key1)\n",
    "n = len(key1)\n",
    "print (n)\n",
    "    "
   ]
  },
  {
   "cell_type": "code",
   "execution_count": 5,
   "metadata": {},
   "outputs": [
    {
     "name": "stdout",
     "output_type": "stream",
     "text": [
      "28\n",
      "[57, 49, 41, 33, 25, 17, 9, 1, 58, 50, 42, 34, 26, 18, 10, 2, 59, 51, 43, 35, 27, 19, 11, 3, 60, 52, 44, 36]\n",
      "[63, 55, 47, 39, 31, 23, 15, 7, 62, 54, 46, 38, 30, 22, 14, 6, 61, 53, 45, 37, 29, 21, 13, 25, 28, 20, 12, 4]\n"
     ]
    }
   ],
   "source": [
    "#Splitting the 56 bits into two halves\n",
    "n1=int (n/2)\n",
    "print (n1)\n",
    "l1 = key1[0:n1:]\n",
    "r1 = key1[n1:]\n",
    "print (l1)\n",
    "print (r1)"
   ]
  },
  {
   "cell_type": "code",
   "execution_count": 6,
   "metadata": {},
   "outputs": [],
   "source": [
    "from collections import deque\n",
    "\n",
    "\n",
    "#function to generate the keys for 16 rounds\n",
    "#deque is like a stack\n",
    "\n",
    "def DES_key (lh,rh):\n",
    "    krot=[]\n",
    "    #loop for left circular shifting keys for all rounds\n",
    "    for i in range(0,16):\n",
    "            if i== 0 or i==1 or i==8 or i==15:\n",
    "                lh = deque(lh)\n",
    "                rh = deque(rh)\n",
    "                lh.rotate (-1)\n",
    "                rh.rotate (-1)\n",
    "            else:\n",
    "                lh = deque(lh)\n",
    "                rh = deque(rh)\n",
    "                lh.rotate (-2)\n",
    "                rh.rotate (-2)\n",
    "            temp= np.concatenate((lh,rh))\n",
    "            krot.append (temp)\n",
    "            \n",
    "    #for loop to convert the 56 bits to 48 bits using 2nd permutation choice and deciding final key for each round\n",
    "    kfinal=[]\n",
    "    for i in range(0,16):\n",
    "            tempkey = krot [i]\n",
    "            key2=[]\n",
    "            for j in range (0,48):\n",
    "                temp1=pc2[j]-1\n",
    "                temp2=tempkey[temp1]\n",
    "                key2.append(temp2)\n",
    "            kfinal.append(key2)\n",
    "            print (f\"Key for round {i}: {kfinal[i]} \\n\")\n"
   ]
  },
  {
   "cell_type": "code",
   "execution_count": 7,
   "metadata": {},
   "outputs": [
    {
     "name": "stdout",
     "output_type": "stream",
     "text": [
      "Key for round 0: [10, 51, 34, 60, 49, 17, 33, 57, 2, 9, 19, 42, 3, 35, 26, 25, 44, 58, 59, 1, 36, 27, 18, 41, 22, 28, 39, 54, 37, 4, 47, 30, 25, 53, 23, 29, 61, 21, 38, 63, 15, 20, 45, 14, 13, 62, 55, 31] \n",
      "\n",
      "Key for round 1: [2, 43, 26, 52, 41, 9, 25, 49, 59, 1, 11, 34, 60, 27, 18, 17, 36, 50, 51, 58, 57, 19, 10, 33, 14, 20, 31, 46, 29, 63, 39, 22, 28, 45, 15, 21, 53, 13, 30, 55, 7, 12, 37, 6, 25, 54, 47, 23] \n",
      "\n",
      "Key for round 2: [51, 27, 10, 36, 25, 58, 9, 33, 43, 50, 60, 18, 44, 11, 2, 1, 49, 34, 35, 42, 41, 3, 59, 17, 61, 4, 15, 30, 13, 47, 23, 6, 12, 29, 62, 25, 37, 28, 14, 39, 54, 63, 21, 53, 20, 38, 31, 7] \n",
      "\n",
      "Key for round 3: [35, 11, 59, 49, 9, 42, 58, 17, 27, 34, 44, 2, 57, 60, 51, 50, 33, 18, 19, 26, 25, 52, 43, 1, 45, 55, 62, 14, 28, 31, 7, 53, 63, 13, 46, 20, 21, 12, 61, 23, 38, 47, 25, 37, 4, 22, 15, 54] \n",
      "\n",
      "Key for round 4: [19, 60, 43, 33, 58, 26, 42, 1, 11, 18, 57, 51, 41, 44, 35, 34, 17, 2, 3, 10, 9, 36, 27, 50, 29, 39, 46, 61, 12, 15, 54, 37, 47, 28, 30, 4, 25, 63, 45, 7, 22, 31, 20, 21, 55, 6, 62, 38] \n",
      "\n",
      "Key for round 5: [3, 44, 27, 17, 42, 10, 26, 50, 60, 2, 41, 35, 25, 57, 19, 18, 1, 51, 52, 59, 58, 49, 11, 34, 13, 23, 30, 45, 63, 62, 38, 21, 31, 12, 14, 55, 20, 47, 29, 54, 6, 15, 4, 25, 39, 53, 46, 22] \n",
      "\n",
      "Key for round 6: [52, 57, 11, 1, 26, 59, 10, 34, 44, 51, 25, 19, 9, 41, 3, 2, 50, 35, 36, 43, 42, 33, 60, 18, 28, 7, 14, 29, 47, 46, 22, 25, 15, 63, 61, 39, 4, 31, 13, 38, 53, 62, 55, 20, 23, 37, 30, 6] \n",
      "\n",
      "Key for round 7: [36, 41, 60, 50, 10, 43, 59, 18, 57, 35, 9, 3, 58, 25, 52, 51, 34, 19, 49, 27, 26, 17, 44, 2, 12, 54, 61, 13, 31, 30, 6, 20, 62, 47, 45, 23, 55, 15, 28, 22, 37, 46, 39, 4, 7, 21, 14, 53] \n",
      "\n",
      "Key for round 8: [57, 33, 52, 42, 2, 35, 51, 10, 49, 27, 1, 60, 50, 17, 44, 43, 26, 11, 41, 19, 18, 9, 36, 59, 4, 46, 53, 25, 23, 22, 61, 12, 54, 39, 37, 15, 47, 7, 20, 14, 29, 38, 31, 63, 62, 13, 6, 45] \n",
      "\n",
      "Key for round 9: [41, 17, 36, 26, 51, 19, 35, 59, 33, 11, 50, 44, 34, 1, 57, 27, 10, 60, 25, 3, 2, 58, 49, 43, 55, 30, 37, 20, 7, 6, 45, 63, 38, 23, 21, 62, 31, 54, 4, 61, 13, 22, 15, 47, 46, 28, 53, 29] \n",
      "\n",
      "Key for round 10: [25, 1, 49, 10, 35, 3, 19, 43, 17, 60, 34, 57, 18, 50, 41, 11, 59, 44, 9, 52, 51, 42, 33, 27, 39, 14, 21, 4, 54, 53, 29, 47, 22, 7, 25, 46, 15, 38, 55, 45, 28, 6, 62, 31, 30, 12, 37, 13] \n",
      "\n",
      "Key for round 11: [9, 50, 33, 59, 19, 52, 3, 27, 1, 44, 18, 41, 2, 34, 25, 60, 43, 57, 58, 36, 35, 26, 17, 11, 23, 61, 25, 55, 38, 37, 13, 31, 6, 54, 20, 30, 62, 22, 39, 29, 12, 53, 46, 15, 14, 63, 21, 28] \n",
      "\n",
      "Key for round 12: [58, 34, 17, 43, 3, 36, 52, 11, 50, 57, 2, 25, 51, 18, 9, 44, 27, 41, 42, 49, 19, 10, 1, 60, 7, 45, 20, 39, 22, 21, 28, 15, 53, 38, 4, 14, 46, 6, 23, 13, 63, 37, 30, 62, 61, 47, 25, 12] \n",
      "\n",
      "Key for round 13: [42, 18, 1, 27, 52, 49, 36, 60, 34, 41, 51, 9, 35, 2, 58, 57, 11, 25, 26, 33, 3, 59, 50, 44, 54, 29, 4, 23, 6, 25, 12, 62, 37, 22, 55, 61, 30, 53, 7, 28, 47, 21, 14, 46, 45, 31, 20, 63] \n",
      "\n",
      "Key for round 14: [26, 2, 50, 11, 36, 33, 49, 44, 18, 25, 35, 58, 19, 51, 42, 41, 60, 9, 10, 17, 52, 43, 34, 57, 38, 13, 55, 7, 53, 20, 63, 46, 21, 6, 39, 45, 14, 37, 54, 12, 31, 25, 61, 30, 29, 15, 4, 47] \n",
      "\n",
      "Key for round 15: [18, 59, 42, 3, 57, 25, 41, 36, 10, 17, 27, 50, 11, 43, 34, 33, 52, 1, 2, 9, 44, 35, 26, 49, 30, 25, 47, 62, 45, 12, 55, 38, 13, 61, 31, 37, 6, 29, 46, 4, 23, 28, 53, 22, 21, 7, 63, 39] \n",
      "\n"
     ]
    }
   ],
   "source": [
    "#calling the above function to display keys for 16 rounds\n",
    "DES_key (l1,r1)"
   ]
  },
  {
   "cell_type": "markdown",
   "metadata": {},
   "source": [
    "CONCLUSIONS:\n",
    "The generation of subkeys from a 64 bit key is done. First it is converted to a 56-bit key by ignoring every eighth bit. The bits of the key are numbered 1 through 64. The 64-bit key is first subjected to permutation governed by a table labelled Permutation Choice1 (PC1).\n",
    "After that, the 56-bit key is divided into two halves and circular left shift each half separately. Number of shifts is decided by a predetermined table.\n",
    "Use permuted choice 2 to permute the result to generate 48-bit subkey for the round. Repeat above steps for all remaining 15 rounds.\n"
   ]
  },
  {
   "cell_type": "code",
   "execution_count": null,
   "metadata": {},
   "outputs": [],
   "source": []
  }
 ],
 "metadata": {
  "kernelspec": {
   "display_name": "Python 3",
   "language": "python",
   "name": "python3"
  },
  "language_info": {
   "codemirror_mode": {
    "name": "ipython",
    "version": 3
   },
   "file_extension": ".py",
   "mimetype": "text/x-python",
   "name": "python",
   "nbconvert_exporter": "python",
   "pygments_lexer": "ipython3",
   "version": "3.7.4"
  }
 },
 "nbformat": 4,
 "nbformat_minor": 4
}
