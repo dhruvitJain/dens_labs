{
 "cells": [
  {
   "cell_type": "markdown",
   "metadata": {},
   "source": [
    "Name - Dhruvit Jain\n",
    "\n",
    "Branch/Stream - B. Tech ExTC\n",
    "\n",
    "Semester - 8\n",
    "\n",
    "DENS Lab Number - 1\n",
    "\n",
    "Date of performance - 11/12/2020\n",
    "\n",
    "Date of submission - 11/12/2020\n",
    "\n",
    "Aim - a.\tTo implement Substitution Cipher and Caesar Cipher \n",
    "      b.\tTo implement Transposition Cipher and Reverse Cipher\n"
   ]
  },
  {
   "cell_type": "code",
   "execution_count": 7,
   "metadata": {},
   "outputs": [],
   "source": [
    "import string"
   ]
  },
  {
   "cell_type": "code",
   "execution_count": 8,
   "metadata": {},
   "outputs": [
    {
     "name": "stdout",
     "output_type": "stream",
     "text": [
      "abcdefghijklmnopqrstuvwxyzABCDEFGHIJKLMNOPQRSTUVWXYZ0123456789 !\"#$%&'()*+,-./:;<=>?@[\\]^_`{|}~\n",
      "95\n"
     ]
    }
   ],
   "source": [
    "#this block takes into account all the possible characters we may encounter during encryption\n",
    "#letters, numbers, whitespace and special characters all are included\n",
    "\n",
    "letter_values = string.ascii_letters + string.digits + \" \" + string.punctuation\n",
    "print (letter_values)\n",
    "n = len(letter_values)\n",
    "print (n)"
   ]
  },
  {
   "cell_type": "code",
   "execution_count": 9,
   "metadata": {},
   "outputs": [],
   "source": [
    "#function to encrypt using caesar encryption, which is when key=3\n",
    "\n",
    "def caesar (plain_text,key):\n",
    "    print (\"\\n\")\n",
    "    print (\"This is the condition for Caesar Encryption!\")\n",
    "    print (\"\\n\")\n",
    "\n",
    "    cipher_text=\"\"\n",
    "    for character in plain_text:\n",
    "        if character in letter_values:\n",
    "            temp=dict1[character]\n",
    "            cipher_text+=temp       \n",
    "    return cipher_text\n",
    "\n",
    "#function to normally encrypt using any key value except 3    \n",
    "\n",
    "def ciphering (plain_text,key):\n",
    "    cipher_text=\"\"\n",
    "    for character in plain_text:\n",
    "        if character in letter_values:\n",
    "            temp=dict1[character]\n",
    "            cipher_text+=temp        \n",
    "    return cipher_text\n",
    "    "
   ]
  },
  {
   "cell_type": "code",
   "execution_count": 10,
   "metadata": {},
   "outputs": [
    {
     "name": "stdout",
     "output_type": "stream",
     "text": [
      "Enter key: 66\n",
      "\n",
      "\n",
      "Enter plaintext: dhruvit jain 7 is coding\n",
      "\n",
      "\n",
      "The following shows the dictionary which is used for substituton: \n",
      "\n",
      "\n",
      "{'a': '$', 'b': '%', 'c': '&', 'd': \"'\", 'e': '(', 'f': ')', 'g': '*', 'h': '+', 'i': ',', 'j': '-', 'k': '.', 'l': '/', 'm': ':', 'n': ';', 'o': '<', 'p': '=', 'q': '>', 'r': '?', 's': '@', 't': '[', 'u': '\\\\', 'v': ']', 'w': '^', 'x': '_', 'y': '`', 'z': '{', 'A': '|', 'B': '}', 'C': '~', 'D': 'a', 'E': 'b', 'F': 'c', 'G': 'd', 'H': 'e', 'I': 'f', 'J': 'g', 'K': 'h', 'L': 'i', 'M': 'j', 'N': 'k', 'O': 'l', 'P': 'm', 'Q': 'n', 'R': 'o', 'S': 'p', 'T': 'q', 'U': 'r', 'V': 's', 'W': 't', 'X': 'u', 'Y': 'v', 'Z': 'w', '0': 'x', '1': 'y', '2': 'z', '3': 'A', '4': 'B', '5': 'C', '6': 'D', '7': 'E', '8': 'F', '9': 'G', ' ': 'H', '!': 'I', '\"': 'J', '#': 'K', '$': 'L', '%': 'M', '&': 'N', \"'\": 'O', '(': 'P', ')': 'Q', '*': 'R', '+': 'S', ',': 'T', '-': 'U', '.': 'V', '/': 'W', ':': 'X', ';': 'Y', '<': 'Z', '=': '0', '>': '1', '?': '2', '@': '3', '[': '4', '\\\\': '5', ']': '6', '^': '7', '_': '8', '`': '9', '{': ' ', '|': '!', '}': '\"', '~': '#'}\n",
      "The following is the encrypted text: \n",
      "'+?\\],[H-$,;HEH,@H&<',;*\n"
     ]
    }
   ],
   "source": [
    "#Input key and plaintext from user\n",
    "\n",
    "dict1 = {}\n",
    "key = int (input(\"Enter key: \"))\n",
    "print (\"\\n\")\n",
    "plain_text = input (\"Enter plaintext: \")\n",
    "print (\"\\n\")\n",
    "for i in range(n):\n",
    "        dict1[letter_values[i]] = letter_values[(i+key)%n] #create the required key and value dictionary for encryption\n",
    "    \n",
    "print (\"The following shows the dictionary which is used for substituton: \")\n",
    "print (\"\\n\")\n",
    "print (dict1)\n",
    "\n",
    "#check for key value to decide caesar encryption or normal\n",
    "\n",
    "if key ==3:\n",
    "    a = caesar (plain_text,key)\n",
    "    print (\"The following is the encrypted text: \")\n",
    "    print (a)\n",
    "\n",
    "else:\n",
    "    a = ciphering (plain_text,key)\n",
    "    print (\"The following is the encrypted text: \")\n",
    "    print (a)\n",
    "    \n",
    "\n"
   ]
  },
  {
   "cell_type": "code",
   "execution_count": 143,
   "metadata": {},
   "outputs": [
    {
     "name": "stdout",
     "output_type": "stream",
     "text": [
      "They argue. While the argument seems to be different the truth is it's always the same. Yes, the topic may be different or the circumstances, but when all said and done, it all came back to the same thing. They both knew it, but neither has the courage or strength to address the underlying issue. So they continue to argue.\n",
      "\n",
      "\n",
      "This is the condition for Caesar Encryption!\n",
      "The following is the encrypted text: \n",
      "WkhB#dujxh;#Zkloh#wkh#dujxphqw#vhhpv#wr#eh#gliihuhqw#wkh#wuxwk#lv#lw*v#dozdBv#wkh#vdph;#1hv/#wkh#wrslf#pdB#eh#gliihuhqw#ru#wkh#flufxpvwdqfhv/#exw#zkhq#doo#vdlg#dqg#grqh/#lw#doo#fdph#edfn#wr#wkh#vdph#wklqj;#WkhB#erwk#nqhz#lw/#exw#qhlwkhu#kdv#wkh#frxudjh#ru#vwuhqjwk#wr#dgguhvv#wkh#xqghuoBlqj#lvvxh;#Vr#wkhB#frqwlqxh#wr#dujxh;\n"
     ]
    }
   ],
   "source": [
    "#with this block, we open a text file which consists a normal paragraph in english language\n",
    "#and readd all the characters and store it in a string\n",
    "with open ('demo.txt',mode='r') as f:\n",
    "    str1 = f.read()\n",
    "plain_text = str1\n",
    "print (plain_text)\n",
    "\n",
    "#the above string is passed as the plaintext to be encrypted to the above defined functions  \n",
    "if key ==3:\n",
    "    a = caesar (plain_text,key)\n",
    "    print (\"The following is the encrypted text: \")\n",
    "    print (a)\n",
    "\n",
    "else:\n",
    "\n",
    "    ciphering (plain_text,key)\n",
    "    print (\"The following is the encrypted text: \")\n",
    "    print (a)\n",
    "    \n",
    "with open ('encrypted.txt', mode='w') as my_file: #creates a new txt file which stores encrypted text\n",
    "    text = my_file.write(a)\n"
   ]
  },
  {
   "cell_type": "code",
   "execution_count": 13,
   "metadata": {},
   "outputs": [
    {
     "name": "stdout",
     "output_type": "stream",
     "text": [
      "66\n"
     ]
    },
    {
     "data": {
      "text/plain": [
       "{'a': 'D',\n",
       " 'b': 'E',\n",
       " 'c': 'F',\n",
       " 'd': 'G',\n",
       " 'e': 'H',\n",
       " 'f': 'I',\n",
       " 'g': 'J',\n",
       " 'h': 'K',\n",
       " 'i': 'L',\n",
       " 'j': 'M',\n",
       " 'k': 'N',\n",
       " 'l': 'O',\n",
       " 'm': 'P',\n",
       " 'n': 'Q',\n",
       " 'o': 'R',\n",
       " 'p': 'S',\n",
       " 'q': 'T',\n",
       " 'r': 'U',\n",
       " 's': 'V',\n",
       " 't': 'W',\n",
       " 'u': 'X',\n",
       " 'v': 'Y',\n",
       " 'w': 'Z',\n",
       " 'x': '0',\n",
       " 'y': '1',\n",
       " 'z': '2',\n",
       " 'A': '3',\n",
       " 'B': '4',\n",
       " 'C': '5',\n",
       " 'D': '6',\n",
       " 'E': '7',\n",
       " 'F': '8',\n",
       " 'G': '9',\n",
       " 'H': ' ',\n",
       " 'I': '!',\n",
       " 'J': '\"',\n",
       " 'K': '#',\n",
       " 'L': '$',\n",
       " 'M': '%',\n",
       " 'N': '&',\n",
       " 'O': \"'\",\n",
       " 'P': '(',\n",
       " 'Q': ')',\n",
       " 'R': '*',\n",
       " 'S': '+',\n",
       " 'T': ',',\n",
       " 'U': '-',\n",
       " 'V': '.',\n",
       " 'W': '/',\n",
       " 'X': ':',\n",
       " 'Y': ';',\n",
       " 'Z': '<',\n",
       " '0': '=',\n",
       " '1': '>',\n",
       " '2': '?',\n",
       " '3': '@',\n",
       " '4': '[',\n",
       " '5': '\\\\',\n",
       " '6': ']',\n",
       " '7': '^',\n",
       " '8': '_',\n",
       " '9': '`',\n",
       " ' ': '{',\n",
       " '!': '|',\n",
       " '\"': '}',\n",
       " '#': '~',\n",
       " '$': 'a',\n",
       " '%': 'b',\n",
       " '&': 'c',\n",
       " \"'\": 'd',\n",
       " '(': 'e',\n",
       " ')': 'f',\n",
       " '*': 'g',\n",
       " '+': 'h',\n",
       " ',': 'i',\n",
       " '-': 'j',\n",
       " '.': 'k',\n",
       " '/': 'l',\n",
       " ':': 'm',\n",
       " ';': 'n',\n",
       " '<': 'o',\n",
       " '=': 'p',\n",
       " '>': 'q',\n",
       " '?': 'r',\n",
       " '@': 's',\n",
       " '[': 't',\n",
       " '\\\\': 'u',\n",
       " ']': 'v',\n",
       " '^': 'w',\n",
       " '_': 'x',\n",
       " '`': 'y',\n",
       " '{': 'z',\n",
       " '|': 'A',\n",
       " '}': 'B',\n",
       " '~': 'C'}"
      ]
     },
     "execution_count": 13,
     "metadata": {},
     "output_type": "execute_result"
    }
   ],
   "source": [
    "#DECRYPTION\n",
    "\n",
    "dict2={} \n",
    "print (key)\n",
    "for i in range(len(letter_values)):\n",
    "    dict2[letter_values[i]]= letter_values[(i-key)%n] #create the required key and value dictionary for decryption\n",
    "dict2"
   ]
  },
  {
   "cell_type": "code",
   "execution_count": 15,
   "metadata": {},
   "outputs": [
    {
     "name": "stdout",
     "output_type": "stream",
     "text": [
      "dhruvit jain 7 is coding\n"
     ]
    }
   ],
   "source": [
    "def decryption (ciphered,key1):\n",
    "    decipher_text=\"\"\n",
    "    for character in ciphered:\n",
    "        if character in letter_values:\n",
    "            temp=dict2[character]\n",
    "            decipher_text+=temp\n",
    "    return decipher_text\n",
    "    \n",
    "#first we check if the key entered is right\n",
    "key1 = int (input (\"Enter key for decryption: \"))\n",
    "\n",
    "#if key is correct, the above encrypted file is opened and read. String is passed to the decryption function and decrypted\n",
    "if key1 == key:\n",
    "    with open ('encrypted.txt',mode='r') as f:\n",
    "        a = f.read()\n",
    "    b = decryption (a, key)\n",
    "    print (\"\\n\")\n",
    "    print (\"The following is the decrypted text: \")\n",
    "    print (\"\\n\")\n",
    "    print (b)\n",
    "#if key is incorrect, error message will be displayed.     \n",
    "else:\n",
    "    print (\"You have entered the wrong key!!\")"
   ]
  },
  {
   "cell_type": "code",
   "execution_count": 145,
   "metadata": {},
   "outputs": [
    {
     "name": "stdout",
     "output_type": "stream",
     "text": [
      "d sMetair'muiDsN Amgr mhe\n"
     ]
    }
   ],
   "source": [
    "#Transposition Ciphering\n",
    "#ENCRYPTION\n",
    "\n",
    "'''\n",
    "The input parameters are the message and the secret keyword. \n",
    "The main function, encrypt, uses two helper functions to create the matrix and the keyword sequence of numbers.\n",
    "\n",
    "'''\n",
    "\n",
    "def encrypt(message, keyword):\n",
    "  matrix = createEncMatrix(len(keyword), message)\n",
    "  keywordSequence = getKeywordSequence(keyword)\n",
    "\n",
    "  ciphertext = \"\";\n",
    "  for num in range(len(keywordSequence)):\n",
    "    pos = keywordSequence.index(num+1)\n",
    "    for row in range(len(matrix)):\n",
    "      if len(matrix[row]) > pos:\n",
    "        ciphertext += matrix[row][pos]\n",
    "  return ciphertext\n",
    "\n",
    "\n",
    "def createEncMatrix(width, message):\n",
    "  r = 0\n",
    "  c = 0\n",
    "  matrix = [[]]\n",
    "  for pos, ch in enumerate(message):\n",
    "    matrix[r].append(ch)\n",
    "    c += 1\n",
    "    if c >= width:\n",
    "      c = 0\n",
    "      r += 1\n",
    "      matrix.append([])\n",
    "\n",
    "  return matrix\n",
    "\n",
    "\n",
    "def getKeywordSequence(keyword):\n",
    "  sequence = []\n",
    "  for pos, ch in enumerate(keyword):\n",
    "    previousLetters = keyword[:pos]\n",
    "    newNumber = 1\n",
    "    for previousPos, previousCh in enumerate(previousLetters):\n",
    "      if previousCh > ch:\n",
    "        sequence[previousPos] += 1\n",
    "      else:\n",
    "        newNumber += 1\n",
    "    sequence.append(newNumber)\n",
    "  return sequence\n",
    "\n",
    "a2 = encrypt (\"A Midsummer Night's Dream\",\"6723154\")\n",
    "print (a2)"
   ]
  },
  {
   "cell_type": "code",
   "execution_count": 146,
   "metadata": {},
   "outputs": [
    {
     "data": {
      "text/plain": [
       "\"A Midsummer Night's Dream\""
      ]
     },
     "execution_count": 146,
     "metadata": {},
     "output_type": "execute_result"
    }
   ],
   "source": [
    "#DECRYPTION\n",
    "'''\n",
    "\n",
    "The code written below allows to decrypt Columnar Transposition ciphertext. \n",
    "The input parameters are the message and the secret keyword. \n",
    "The main function, decrypt, uses helper functions to create the matrix and the keyword sequence of numbers.\n",
    "\n",
    "'''\n",
    "\n",
    "def decrypt(message, keyword):\n",
    "  matrix = createDecrMatrix(getKeywordSequence(keyword), message)\n",
    "\n",
    "  plaintext = \"\";\n",
    "  for r in range(len(matrix)):\n",
    "    for c in range (len(matrix[r])):\n",
    "      plaintext += matrix[r][c]\n",
    "  return plaintext\n",
    "\n",
    "\n",
    "def createDecrMatrix(keywordSequence, message):\n",
    "  width = len(keywordSequence)\n",
    "  height = len(message) // width\n",
    "  if height * width < len(message):\n",
    "    height += 1\n",
    "\n",
    "  matrix = createEmptyMatrix(width, height, len(message))\n",
    "\n",
    "  pos = 0\n",
    "  for num in range(len(keywordSequence)):\n",
    "    column = keywordSequence.index(num+1)\n",
    "\n",
    "    r = 0\n",
    "    while (r < len(matrix)) and (len(matrix[r]) > column):\n",
    "      matrix[r][column] = message[pos]\n",
    "      r += 1\n",
    "      pos += 1\n",
    "\n",
    "  return matrix\n",
    "\n",
    "\n",
    "def createEmptyMatrix(width, height, length):\n",
    "  matrix = []\n",
    "  totalAdded = 0\n",
    "  for r in range(height):\n",
    "    matrix.append([])\n",
    "    for c in range(width):\n",
    "      if totalAdded >= length:\n",
    "        return matrix\n",
    "      matrix[r].append('')\n",
    "      totalAdded += 1\n",
    "  return matrix\n",
    "\n",
    "\n",
    "def getKeywordSequence(keyword):\n",
    "  sequence = []\n",
    "  for pos, ch in enumerate(keyword):\n",
    "    previousLetters = keyword[:pos]\n",
    "    newNumber = 1\n",
    "    for previousPos, previousCh in enumerate(previousLetters):\n",
    "      if previousCh > ch:\n",
    "        sequence[previousPos] += 1\n",
    "      else:\n",
    "        newNumber += 1\n",
    "    sequence.append(newNumber)\n",
    "  return sequence\n",
    "\n",
    "decrypt (a2,\"6723154\")"
   ]
  },
  {
   "cell_type": "markdown",
   "metadata": {},
   "source": [
    "CONCLUSION -  \n",
    "\n",
    "In symmetric key encipherment, a single secret key is used for both encryption and decryption. In addition, the encryption and decryption algorithms are inverses of each other. The original message known as plain text is encrypted using a secret key to obtain the unintelligible message called cipher text. This cipher text is transmitted through the channel to the intended receiver. At the receiver, the cipher text is decrypted using the same secret key to obtain the original plain text. \n",
    "\n",
    "A substitution cipher replaces one symbol with another. \n",
    "A transposition cipher does not substitute one symbol for another, instead it changes(transposes) the location of the symbols.\n",
    "\n",
    "The Columnar Transposition rearranges the plaintext letters, based on a matrix filled with letters in the order determined by the secret keyword. The secret key is usually a word (or just a sequence of letters). It has to be converted into a sequence of numbers. The numbers are defined by an alphabetical order of the letters in the keyword. The letter which is first in the alphabet will be the number 1, the second letter in the alphabetical order will be 2, and so on.\n"
   ]
  },
  {
   "cell_type": "code",
   "execution_count": null,
   "metadata": {},
   "outputs": [],
   "source": []
  }
 ],
 "metadata": {
  "kernelspec": {
   "display_name": "Python 3",
   "language": "python",
   "name": "python3"
  },
  "language_info": {
   "codemirror_mode": {
    "name": "ipython",
    "version": 3
   },
   "file_extension": ".py",
   "mimetype": "text/x-python",
   "name": "python",
   "nbconvert_exporter": "python",
   "pygments_lexer": "ipython3",
   "version": "3.7.4"
  }
 },
 "nbformat": 4,
 "nbformat_minor": 4
}
