{
 "cells": [
  {
   "cell_type": "markdown",
   "metadata": {
    "id": "w0Boae9VHZfb"
   },
   "source": [
    "#### Name: Urvesh Munot\n",
    "#### Roll NO.: C064\n",
    "#### Program/ Branch/ Sem : B.Tech EXTC VIII\n",
    "#### Experiment No.: 0\n",
    "#### Date of performance: 09/12/20\n",
    "#### Date of submission: 09/12/20\n"
   ]
  },
  {
   "cell_type": "code",
   "execution_count": 3,
   "metadata": {
    "id": "isbTxJ8qHXBT"
   },
   "outputs": [],
   "source": [
    "import string"
   ]
  },
  {
   "cell_type": "code",
   "execution_count": 4,
   "metadata": {
    "colab": {
     "base_uri": "https://localhost:8080/",
     "height": 52
    },
    "id": "keUTXXjRHYuf",
    "outputId": "13fde3d5-222a-417c-d908-56195a1f37ae"
   },
   "outputs": [
    {
     "name": "stdout",
     "output_type": "stream",
     "text": [
      "all_letters\n"
     ]
    },
    {
     "data": {
      "application/vnd.google.colaboratory.intrinsic+json": {
       "type": "string"
      },
      "text/plain": [
       "'abcdefghijklmnopqrstuvwxyzABCDEFGHIJKLMNOPQRSTUVWXYZ0123456789!@#$%^&*'"
      ]
     },
     "execution_count": 4,
     "metadata": {
      "tags": []
     },
     "output_type": "execute_result"
    }
   ],
   "source": [
    "all_letters= string.ascii_letters\n",
    "print (\"all_letters\")\n",
    "#adding numbers\n",
    "digits= \"0123456789\"\n",
    "#adding symbols\n",
    "symbols= \"!@#$%^&*\"\n",
    "#creating the string\n",
    "all_letters= all_letters +digits +symbols\n",
    "all_letters"
   ]
  },
  {
   "cell_type": "code",
   "execution_count": 8,
   "metadata": {
    "colab": {
     "base_uri": "https://localhost:8080/"
    },
    "id": "3CSxTCsEJgu8",
    "outputId": "0fef0696-a1c6-42cc-cabe-c870a976feab"
   },
   "outputs": [
    {
     "name": "stdout",
     "output_type": "stream",
     "text": [
      "Enter the Key: 55\n",
      "{'a': '3', 'b': '4', 'c': '5', 'd': '6', 'e': '7', 'f': '8', 'g': '9', 'h': '!', 'i': '@', 'j': '#', 'k': '$', 'l': '%', 'm': '^', 'n': '&', 'o': '*', 'p': 'a', 'q': 'b', 'r': 'c', 's': 'd', 't': 'e', 'u': 'f', 'v': 'g', 'w': 'h', 'x': 'i', 'y': 'j', 'z': 'k', 'A': 'l', 'B': 'm', 'C': 'n', 'D': 'o', 'E': 'p', 'F': 'q', 'G': 'r', 'H': 's', 'I': 't', 'J': 'u', 'K': 'v', 'L': 'w', 'M': 'x', 'N': 'y', 'O': 'z', 'P': 'A', 'Q': 'B', 'R': 'C', 'S': 'D', 'T': 'E', 'U': 'F', 'V': 'G', 'W': 'H', 'X': 'I', 'Y': 'J', 'Z': 'K', '0': 'L', '1': 'M', '2': 'N', '3': 'O', '4': 'P', '5': 'Q', '6': 'R', '7': 'S', '8': 'T', '9': 'U', '!': 'V', '@': 'W', '#': 'X', '$': 'Y', '%': 'Z', '^': '0', '&': '1', '*': '2'}\n",
      "Enter the string to be encrypted: urve$h007\n"
     ]
    }
   ],
   "source": [
    "#creating the dictionary for storing substitution for plaintext \n",
    "\n",
    "\n",
    "dict1={}\n",
    "#taling imput from user for the key\n",
    "key=input(\"Enter the Key: \")\n",
    "key=int(key)\n",
    "\n",
    "for i in range(len(all_letters)):\n",
    "  #creating dictionary\n",
    "  dict1[all_letters[i]]= all_letters[(i+key)%len(all_letters)]\n",
    "\n",
    "print(dict1)\n",
    "#taking input for the data that has to be encrypted\n",
    "plain_text= input(\"Enter the string to be encrypted: \")"
   ]
  },
  {
   "cell_type": "code",
   "execution_count": 25,
   "metadata": {
    "colab": {
     "base_uri": "https://localhost:8080/",
     "height": 282
    },
    "id": "wHFH5dzELQv3",
    "outputId": "b1b64d41-aa56-4222-9ccc-4268249b2d2d"
   },
   "outputs": [
    {
     "name": "stdout",
     "output_type": "stream",
     "text": [
      "f\n",
      "Cipher text is f\n",
      "c\n"
     ]
    },
    {
     "ename": "AttributeError",
     "evalue": "ignored",
     "output_type": "error",
     "traceback": [
      "\u001b[0;31m---------------------------------------------------------------------------\u001b[0m",
      "\u001b[0;31mAttributeError\u001b[0m                            Traceback (most recent call last)",
      "\u001b[0;32m<ipython-input-25-4f9821f399be>\u001b[0m in \u001b[0;36m<module>\u001b[0;34m()\u001b[0m\n\u001b[1;32m      6\u001b[0m         \u001b[0mtemp\u001b[0m\u001b[0;34m=\u001b[0m \u001b[0mdict1\u001b[0m\u001b[0;34m[\u001b[0m\u001b[0mchar\u001b[0m\u001b[0;34m]\u001b[0m\u001b[0;34m\u001b[0m\u001b[0;34m\u001b[0m\u001b[0m\n\u001b[1;32m      7\u001b[0m         \u001b[0mprint\u001b[0m\u001b[0;34m(\u001b[0m\u001b[0mtemp\u001b[0m\u001b[0;34m)\u001b[0m\u001b[0;34m\u001b[0m\u001b[0;34m\u001b[0m\u001b[0m\n\u001b[0;32m----> 8\u001b[0;31m         \u001b[0mcipher_text\u001b[0m\u001b[0;34m.\u001b[0m\u001b[0mappend\u001b[0m\u001b[0;34m(\u001b[0m\u001b[0mtemp\u001b[0m\u001b[0;34m)\u001b[0m\u001b[0;34m\u001b[0m\u001b[0;34m\u001b[0m\u001b[0m\n\u001b[0m\u001b[1;32m      9\u001b[0m \u001b[0;34m\u001b[0m\u001b[0m\n\u001b[1;32m     10\u001b[0m     \u001b[0;32melse\u001b[0m\u001b[0;34m:\u001b[0m\u001b[0;34m\u001b[0m\u001b[0;34m\u001b[0m\u001b[0m\n",
      "\u001b[0;31mAttributeError\u001b[0m: 'str' object has no attribute 'append'"
     ]
    }
   ],
   "source": [
    "#loop for cipher text generation\n",
    "\n",
    "cipher_text=[]\n",
    "for char in plain_text:\n",
    "    if char in all_letters:\n",
    "        temp= dict1[char]\n",
    "        print(temp)\n",
    "        cipher_text.append(temp)\n",
    "       \n",
    "    else:\n",
    "         temp=char\n",
    "         cipher_text.append(temp)\n",
    "    cipher_text= \"\".join(cipher_text)\n",
    "    print(\"Cipher text is\",cipher_text)"
   ]
  },
  {
   "cell_type": "code",
   "execution_count": 21,
   "metadata": {
    "colab": {
     "base_uri": "https://localhost:8080/"
    },
    "id": "vwST7tvIN7d1",
    "outputId": "8cc52041-4129-434e-9f5a-e2881eac6294"
   },
   "outputs": [
    {
     "data": {
      "text/plain": [
       "{'!': 'h',\n",
       " '#': 'j',\n",
       " '$': 'k',\n",
       " '%': 'l',\n",
       " '&': 'n',\n",
       " '*': 'o',\n",
       " '0': '^',\n",
       " '1': '&',\n",
       " '2': '*',\n",
       " '3': 'a',\n",
       " '4': 'b',\n",
       " '5': 'c',\n",
       " '6': 'd',\n",
       " '7': 'e',\n",
       " '8': 'f',\n",
       " '9': 'g',\n",
       " '@': 'i',\n",
       " 'A': 'P',\n",
       " 'B': 'Q',\n",
       " 'C': 'R',\n",
       " 'D': 'S',\n",
       " 'E': 'T',\n",
       " 'F': 'U',\n",
       " 'G': 'V',\n",
       " 'H': 'W',\n",
       " 'I': 'X',\n",
       " 'J': 'Y',\n",
       " 'K': 'Z',\n",
       " 'L': '0',\n",
       " 'M': '1',\n",
       " 'N': '2',\n",
       " 'O': '3',\n",
       " 'P': '4',\n",
       " 'Q': '5',\n",
       " 'R': '6',\n",
       " 'S': '7',\n",
       " 'T': '8',\n",
       " 'U': '9',\n",
       " 'V': '!',\n",
       " 'W': '@',\n",
       " 'X': '#',\n",
       " 'Y': '$',\n",
       " 'Z': '%',\n",
       " '^': 'm',\n",
       " 'a': 'p',\n",
       " 'b': 'q',\n",
       " 'c': 'r',\n",
       " 'd': 's',\n",
       " 'e': 't',\n",
       " 'f': 'u',\n",
       " 'g': 'v',\n",
       " 'h': 'w',\n",
       " 'i': 'x',\n",
       " 'j': 'y',\n",
       " 'k': 'z',\n",
       " 'l': 'A',\n",
       " 'm': 'B',\n",
       " 'n': 'C',\n",
       " 'o': 'D',\n",
       " 'p': 'E',\n",
       " 'q': 'F',\n",
       " 'r': 'G',\n",
       " 's': 'H',\n",
       " 't': 'I',\n",
       " 'u': 'J',\n",
       " 'v': 'K',\n",
       " 'w': 'L',\n",
       " 'x': 'M',\n",
       " 'y': 'N',\n",
       " 'z': 'O'}"
      ]
     },
     "execution_count": 21,
     "metadata": {
      "tags": []
     },
     "output_type": "execute_result"
    }
   ],
   "source": [
    "#creating dictionary to store the substituition for the given alphabet in the cipher text based on the key\n",
    "\n",
    "dict2={}\n",
    "for i in range(len(all_letters)):\n",
    "    dict2[all_letters[i]]=all_letters[(i-key)%(len(all_letters))]\n",
    "dict2"
   ]
  },
  {
   "cell_type": "markdown",
   "metadata": {
    "id": "S-MiZrq1OkHX"
   },
   "source": []
  },
  {
   "cell_type": "code",
   "execution_count": null,
   "metadata": {
    "id": "ag7Vj0JWREP5"
   },
   "outputs": [],
   "source": [
    "#loop to recover decrypted text\n",
    "\n",
    "decrypt_text=[]\n",
    "for char in cipher_text:\n",
    "    if char in all_letters:\n",
    "      temp= dict2[char]\n",
    "      decrypt_text.append(temp)\n",
    "    else: \n",
    "        temp=char\n",
    "        decrypt_text.append"
   ]
  }
 ],
 "metadata": {
  "colab": {
   "name": "Untitled0.ipynb",
   "provenance": []
  },
  "kernelspec": {
   "display_name": "Python 3",
   "language": "python",
   "name": "python3"
  },
  "language_info": {
   "codemirror_mode": {
    "name": "ipython",
    "version": 3
   },
   "file_extension": ".py",
   "mimetype": "text/x-python",
   "name": "python",
   "nbconvert_exporter": "python",
   "pygments_lexer": "ipython3",
   "version": "3.7.4"
  }
 },
 "nbformat": 4,
 "nbformat_minor": 1
}
