{
 "cells": [
  {
   "cell_type": "markdown",
   "metadata": {},
   "source": [
    "## Question 1 \n",
    "## In a multiplicative cipher, the plain text and cipher text are integers in Z26 . Key is also an integer in Z26 . Obtain the key domain. Find the key used for encrypting the following plain text."
   ]
  },
  {
   "cell_type": "code",
   "execution_count": 37,
   "metadata": {},
   "outputs": [],
   "source": [
    "#importing libraries\n",
    "import string\n",
    "import math"
   ]
  },
  {
   "cell_type": "code",
   "execution_count": 38,
   "metadata": {},
   "outputs": [
    {
     "name": "stdout",
     "output_type": "stream",
     "text": [
      "abcdefghijklmnopqrstuvwxyz\n",
      "26\n"
     ]
    }
   ],
   "source": [
    "letter_values = string.ascii_lowercase\n",
    "print (letter_values)\n",
    "n = len(letter_values)\n",
    "print (n)"
   ]
  },
  {
   "cell_type": "code",
   "execution_count": 39,
   "metadata": {},
   "outputs": [
    {
     "name": "stdout",
     "output_type": "stream",
     "text": [
      "Possible values of k1: \n",
      "\n",
      "[1, 3, 5, 7, 9, 11, 15, 17, 19, 21, 23, 25]\n",
      "\n",
      "\n",
      "Multiplicative inverses of the keys above: \n",
      "\n",
      "[1, 9, 21, 15, 3, 19, 7, 23, 11, 5, 17, 25]\n"
     ]
    }
   ],
   "source": [
    "mi = [] #list for k1 values\n",
    "mii = [] #list for the multiplicative inverses of values in mi i.e. multiplication inverses of k1\n",
    "\n",
    "#below for loop is used to calculate gcd values of 1-26 and 26. If gcd is 1, multiplication inverse exists\n",
    "for i in range (0,len(letter_values)+1):\n",
    "        a = math.gcd (i,n)\n",
    "        if a == 1:\n",
    "            mi.append (i)\n",
    "print (\"Possible values of k1: \\n\")\n",
    "print (mi)\n",
    "\n",
    "\n",
    "#below for loop is used to find the multiplicative inverse of all the values in mi list\n",
    "for i in range (0,len(mi)):\n",
    "    for x in range (1,len(letter_values)):\n",
    "        mi[i] = mi[i] % n\n",
    "        if ((mi[i] * x) % n == 1):\n",
    "            mii.append(x)\n",
    "print (\"\\n\")\n",
    "print (\"Multiplicative inverses of the keys above: \\n\")\n",
    "print (mii)   "
   ]
  },
  {
   "cell_type": "code",
   "execution_count": 42,
   "metadata": {},
   "outputs": [
    {
     "name": "stdout",
     "output_type": "stream",
     "text": [
      "The multiplicative inverse pairs are as follows: \n",
      "\n",
      "{1: 1, 9: 3, 21: 5, 15: 7, 3: 9, 19: 11, 7: 15, 23: 17, 11: 19, 5: 21, 17: 23, 25: 25}\n"
     ]
    }
   ],
   "source": [
    "#zip function is used to convert 2 lists into a single dictionary \n",
    "\n",
    "dict12 = dict (zip(mii,mi))\n",
    "print (\"The multiplicative inverse pairs are as follows: \\n\")\n",
    "print (dict12)"
   ]
  },
  {
   "cell_type": "code",
   "execution_count": 43,
   "metadata": {},
   "outputs": [],
   "source": [
    "def decryption (ciphered,dict1):\n",
    "    decipher_text=\"\"\n",
    "    for character in ciphered:\n",
    "        if character in letter_values:\n",
    "            temp=dict1[character]\n",
    "            decipher_text+=temp\n",
    "    return decipher_text\n",
    "\n",
    "\n",
    "def dict_creator (key):\n",
    "    dict2 = {}\n",
    "    for i in range(n):\n",
    "        dict2[letter_values[i]] = letter_values[(i*key)%n] #create the required key and value dictionary for decryption\n",
    "    return (dict2)\n"
   ]
  },
  {
   "cell_type": "code",
   "execution_count": 44,
   "metadata": {},
   "outputs": [
    {
     "name": "stdout",
     "output_type": "stream",
     "text": [
      "The decrypted text using key = 1 is xczzu\n",
      "The decrypted text using key = 3 is zsrry\n",
      "The decrypted text using key = 5 is pqffe\n",
      "The decrypted text using key = 7 is hello\n",
      "The decrypted text using key = 9 is rgxxi\n",
      "The decrypted text using key = 11 is vmhhq\n",
      "The decrypted text using key = 15 is fottk\n",
      "The decrypted text using key = 17 is judds\n",
      "The decrypted text using key = 19 is twppm\n",
      "The decrypted text using key = 21 is lkvvw\n",
      "The decrypted text using key = 23 is bijjc\n",
      "The decrypted text using key = 25 is dybbg\n"
     ]
    }
   ],
   "source": [
    "ciphertext = 'xczzu'\n",
    "\n",
    "for k1inv in mii:\n",
    "    dict1 = dict_creator (k1inv)    \n",
    "    decrypted_text = decryption (ciphertext,dict1)\n",
    "    print (f\"The decrypted text using key = {dict12[k1inv]} is {decrypted_text}\")"
   ]
  },
  {
   "cell_type": "markdown",
   "metadata": {},
   "source": [
    "## Question 2\n",
    "## Using Chinese remainder theorem, find an integer that has a remainder of 3 when divided by 7 and 13, but is divisible by 12."
   ]
  },
  {
   "cell_type": "code",
   "execution_count": 52,
   "metadata": {},
   "outputs": [],
   "source": [
    "def ext_euclidean (a,b):\n",
    "    r=[]\n",
    "    q=[None,None]\n",
    "    x=[1,0]\n",
    "    y=[0,1]\n",
    "    r.append(a)\n",
    "    r.append(b)\n",
    "    \n",
    "    i=2\n",
    "    while i>1:\n",
    "        \n",
    "        r.append(r[i-2] % r[i-1]) #calculating remainder \n",
    "        q.append(r[i-2] // r[i-1]) #calculating quotient\n",
    "        x.append(x[i-2]-q[i]*x[i-1]) #values of x\n",
    "        y.append(y[i-2]-q[i]*y[i-1]) #values of y\n",
    "        \n",
    "        if r[i]==1: #i.e. numbers are co-prime\n",
    "            print (f\"Multiplicative inverse of {b} mod {a} exists!\")\n",
    "            minv = y[-1]%a #as the last element of y is the multiplicative inverse when r=1\n",
    "            print (f\"It is {minv} \\n\")\n",
    "            return (minv)\n",
    "            break   \n",
    "            \n",
    "        if r[i]==0: #numbers are not coprime\n",
    "            print (\"Multiplicative inverse does not exist!\")\n",
    "            minv = y[-1]%a\n",
    "            return (r[i-1],r,q,x,y,minv)\n",
    "            break\n",
    "        \n",
    "        i+=1\n",
    "        "
   ]
  },
  {
   "cell_type": "code",
   "execution_count": 53,
   "metadata": {},
   "outputs": [
    {
     "name": "stdout",
     "output_type": "stream",
     "text": [
      "M = 1092\n",
      "M1 = 156\n",
      "M2 = 84\n",
      "M3 = 91\n"
     ]
    }
   ],
   "source": [
    "# X = 3 mod 7, 3 mod 13, 0 mod 12\n",
    "\n",
    "m1 = 7\n",
    "m2 = 13\n",
    "m3 = 12\n",
    "\n",
    "a1= 3\n",
    "a2= 3\n",
    "a3= 0\n",
    "\n",
    "M = m1*m2*m3\n",
    "print (\"M =\",M)\n",
    "\n",
    "M1 = M//m1\n",
    "M2 = M//m2\n",
    "M3 = M//m3\n",
    "\n",
    "print (\"M1 =\",M1)\n",
    "print (\"M2 =\",M2)\n",
    "print (\"M3 =\",M3)"
   ]
  },
  {
   "cell_type": "code",
   "execution_count": 55,
   "metadata": {},
   "outputs": [
    {
     "name": "stdout",
     "output_type": "stream",
     "text": [
      "Multiplicative inverse of 156 mod 7 exists!\n",
      "It is 4 \n",
      "\n",
      "Multiplicative inverse of 84 mod 13 exists!\n",
      "It is 11 \n",
      "\n",
      "Multiplicative inverse of 91 mod 12 exists!\n",
      "It is 7 \n",
      "\n",
      "A = (3*156*4 + 3*84*11 + 0*91*7)\n",
      "A = The answer integer =  276\n"
     ]
    }
   ],
   "source": [
    "M1_inv = ext_euclidean (m1,M1)\n",
    "M2_inv = ext_euclidean (m2,M2)\n",
    "M3_inv = ext_euclidean (m3,M3)\n",
    "\n",
    "\n",
    "print (f\"A = ({a1}*{M1}*{M1_inv} + {a2}*{M2}*{M2_inv} + {a3}*{M3}*{M3_inv})\")\n",
    "A = (a1*M1*M1_inv + a2*M2*M2_inv + a3*M3*M3_inv) % M\n",
    "print (\"A = The answer integer = \",A)"
   ]
  },
  {
   "cell_type": "code",
   "execution_count": null,
   "metadata": {},
   "outputs": [],
   "source": []
  }
 ],
 "metadata": {
  "kernelspec": {
   "display_name": "Python 3",
   "language": "python",
   "name": "python3"
  },
  "language_info": {
   "codemirror_mode": {
    "name": "ipython",
    "version": 3
   },
   "file_extension": ".py",
   "mimetype": "text/x-python",
   "name": "python",
   "nbconvert_exporter": "python",
   "pygments_lexer": "ipython3",
   "version": "3.7.4"
  }
 },
 "nbformat": 4,
 "nbformat_minor": 4
}
