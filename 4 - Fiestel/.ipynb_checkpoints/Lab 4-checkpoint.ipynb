{
 "cells": [
  {
   "cell_type": "markdown",
   "metadata": {},
   "source": [
    "Name - Dhruvit Jain\n",
    "\n",
    "Branch/Stream - B. Tech ExTC\n",
    "\n",
    "Semester - 8\n",
    "\n",
    "DENS Lab Number - 4\n",
    "\n",
    "Date of performance - 29/01/2021\n",
    "\n",
    "Date of submission - 29/01/2021\n",
    "\n",
    "Aim - To implement classical Feistel Cipher with two rounds"
   ]
  },
  {
   "cell_type": "code",
   "execution_count": 5,
   "metadata": {},
   "outputs": [
    {
     "name": "stdout",
     "output_type": "stream",
     "text": [
      "Enter the plain text : d hruvit\n",
      "ASCII Values =  [100, 32, 104, 114, 117, 118, 105, 116]\n"
     ]
    }
   ],
   "source": [
    "#input plain text and convert into ascii values and store in a list\n",
    "plain_text = input(\"Enter the plain text : \")\n",
    "ascii_value = [ord(p) for p in plain_text] \n",
    "print (\"ASCII Values = \",ascii_value)"
   ]
  },
  {
   "cell_type": "code",
   "execution_count": 6,
   "metadata": {},
   "outputs": [
    {
     "name": "stdout",
     "output_type": "stream",
     "text": [
      "Binary values of ASCII values:\n",
      "['01100100', '00100000', '01101000', '01110010', '01110101', '01110110', '01101001', '01110100']\n",
      "\n",
      "\n",
      "String format:  0110010000100000011010000111001001110101011101100110100101110100\n"
     ]
    }
   ],
   "source": [
    "#below for loop is to ensure that all ascii values are represented as 8bits so as to have an even number of total bits\n",
    "\n",
    "binary_values = []\n",
    "for n in ascii_value:\n",
    "    a=bin(n).replace(\"0b\", \"0\")\n",
    "    n1=len (a)\n",
    "    if n1 <8:\n",
    "        a= ((8-n1)*'0'+a) #add 0s in the beginning to make it 8bits\n",
    "    binary_values.append(a)\n",
    "\n",
    "#convert list of binary values into a single string\n",
    "print (\"Binary values of ASCII values:\")\n",
    "print (binary_values)\n",
    "res = ''.join(binary_values)\n",
    "print (\"\\n\")\n",
    "print (\"String format: \",res)\n",
    "n= len(res)\n",
    "# print (n)"
   ]
  },
  {
   "cell_type": "code",
   "execution_count": 7,
   "metadata": {},
   "outputs": [
    {
     "name": "stdout",
     "output_type": "stream",
     "text": [
      "32\n",
      "L1 =  01100100001000000110100001110010 32\n",
      "R1 =  01110101011101100110100101110100 32\n"
     ]
    }
   ],
   "source": [
    "#splitting the above string into equal halves and hence deciding L1 and R1\n",
    "n1=int (n/2)\n",
    "print (n1)\n",
    "L1 = res[0:n1:]\n",
    "R1 = res[n1:]\n",
    "print (\"L1 = \",L1,len(L1))\n",
    "print (\"R1 = \",R1,len(R1))"
   ]
  },
  {
   "cell_type": "code",
   "execution_count": 8,
   "metadata": {},
   "outputs": [
    {
     "name": "stdout",
     "output_type": "stream",
     "text": [
      "Length of key will be 32\n"
     ]
    }
   ],
   "source": [
    "#function for random key generation\n",
    "\n",
    "import random\n",
    "\n",
    "def keygen (n):\n",
    "    key=''\n",
    "    for i in range (0,n):\n",
    "        temp = random.randint(0,1)\n",
    "        key=key+str(temp)\n",
    "    return key\n",
    "\n",
    "k=keygen(n1)\n",
    "print (\"Length of key will be\",len(k))\n",
    "    "
   ]
  },
  {
   "cell_type": "code",
   "execution_count": 9,
   "metadata": {},
   "outputs": [],
   "source": [
    "#function for xor calculation\n",
    "\n",
    "def xor(a, b, n): \n",
    "    ans = \"\" \n",
    "    for i in range(n):  \n",
    "        if (a[i] == b[i]):  \n",
    "            ans += \"0\"\n",
    "        else:  \n",
    "            ans += \"1\"\n",
    "    return ans  "
   ]
  },
  {
   "cell_type": "markdown",
   "metadata": {},
   "source": [
    "## ENCRYPTION ROUND 1"
   ]
  },
  {
   "cell_type": "code",
   "execution_count": 10,
   "metadata": {},
   "outputs": [
    {
     "name": "stdout",
     "output_type": "stream",
     "text": [
      "L2 =  01110101011101100110100101110100\n",
      "R2 =  11000110110110000100111101100011\n"
     ]
    }
   ],
   "source": [
    "k1= keygen (n1)\n",
    "f1 = xor(R1,k1,n1)\n",
    "R2 = xor(f1,L1,n1) \n",
    "L2 = R1\n",
    "print (\"L2 = \",L2)\n",
    "print (\"R2 = \",R2)"
   ]
  },
  {
   "cell_type": "markdown",
   "metadata": {},
   "source": [
    "## ENCRYPTION ROUND 2"
   ]
  },
  {
   "cell_type": "code",
   "execution_count": 11,
   "metadata": {},
   "outputs": [
    {
     "name": "stdout",
     "output_type": "stream",
     "text": [
      "L3 =  11000110110110000100111101100011\n",
      "R3 =  01111100011000011011110100100110\n"
     ]
    }
   ],
   "source": [
    "k2= keygen (n1)\n",
    "f2 = xor(R2,k2,n1)\n",
    "R3 = xor(f2,L2,n1)\n",
    "L3 = R2\n",
    "print (\"L3 = \",L3)\n",
    "print (\"R3 = \",R3)"
   ]
  },
  {
   "cell_type": "markdown",
   "metadata": {},
   "source": [
    "## DECRYPTION ROUND 1"
   ]
  },
  {
   "cell_type": "code",
   "execution_count": 12,
   "metadata": {},
   "outputs": [
    {
     "name": "stdout",
     "output_type": "stream",
     "text": [
      "L5 =  01110101011101100110100101110100\n",
      "R5 =  11000110110110000100111101100011\n"
     ]
    }
   ],
   "source": [
    "L4,R4 = L3,R3\n",
    "R5=L4\n",
    "f3 = xor(L4,k2,n1)\n",
    "L5 = xor(f3,R4,n1)\n",
    "print (\"L5 = \",L5)\n",
    "print (\"R5 = \",R5)"
   ]
  },
  {
   "cell_type": "markdown",
   "metadata": {},
   "source": [
    "## DECRYPTION ROUND 2"
   ]
  },
  {
   "cell_type": "code",
   "execution_count": 13,
   "metadata": {},
   "outputs": [
    {
     "name": "stdout",
     "output_type": "stream",
     "text": [
      "L6 =  01100100001000000110100001110010\n",
      "R6 =  01110101011101100110100101110100\n"
     ]
    }
   ],
   "source": [
    "R6=L5\n",
    "f3 = xor(L5,k1,n1)\n",
    "L6 = xor(f3,R5,n1)\n",
    "print (\"L6 = \",L6)\n",
    "print (\"R6 = \",R6)"
   ]
  },
  {
   "cell_type": "code",
   "execution_count": 14,
   "metadata": {},
   "outputs": [
    {
     "name": "stdout",
     "output_type": "stream",
     "text": [
      "YES\n",
      "YES\n"
     ]
    }
   ],
   "source": [
    "#Checking if the decrypted and encrypted strings are same\n",
    "\n",
    "if (L6==L1):\n",
    "    print (\"YES\")\n",
    "if (R6==R1):\n",
    "    print (\"YES\")"
   ]
  },
  {
   "cell_type": "code",
   "execution_count": 15,
   "metadata": {},
   "outputs": [
    {
     "name": "stdout",
     "output_type": "stream",
     "text": [
      "Left half: ['01100100', '00100000', '01101000', '01110010']\n",
      "Right half: ['01110101', '01110110', '01101001', '01110100']\n"
     ]
    }
   ],
   "source": [
    "#Function to convert binary to decimal\n",
    "def b2d(n): \n",
    "    return int(n,2)\n",
    "\n",
    "#splitting a string into equal sizes of 8bits for conversion to ascii\n",
    "lh=[]\n",
    "rh=[]\n",
    "for i in range (0,n1,8):\n",
    "    a = L6[i:i+8]\n",
    "    b = R6[i:i+8]\n",
    "    lh.append(a)\n",
    "    rh.append(b)\n",
    "    \n",
    "print (\"Left half:\",lh)\n",
    "print (\"Right half:\",rh)\n",
    "\n"
   ]
  },
  {
   "cell_type": "code",
   "execution_count": 16,
   "metadata": {},
   "outputs": [
    {
     "name": "stdout",
     "output_type": "stream",
     "text": [
      "ASCII Values: [100, 32, 104, 114, 117, 118, 105, 116]\n"
     ]
    }
   ],
   "source": [
    "#conversion of binary values to ascii values\n",
    "ascii_val=[]\n",
    "for element in lh:\n",
    "    s = b2d (element)\n",
    "    ascii_val.append(s)\n",
    "\n",
    "for element in rh:\n",
    "    s = b2d (element)\n",
    "    ascii_val.append(s)\n",
    "    \n",
    "print (\"ASCII Values:\",ascii_val)"
   ]
  },
  {
   "cell_type": "code",
   "execution_count": 17,
   "metadata": {},
   "outputs": [
    {
     "name": "stdout",
     "output_type": "stream",
     "text": [
      "Decrypted Text: d hruvit\n"
     ]
    }
   ],
   "source": [
    "decrypt=[]\n",
    "for element in ascii_val:\n",
    "    s = chr(element)\n",
    "    decrypt.append (s)\n",
    "    \n",
    "decrypt_text = \"\".join(decrypt)\n",
    "print (\"Decrypted Text:\",decrypt_text)"
   ]
  },
  {
   "cell_type": "markdown",
   "metadata": {},
   "source": [
    "Feistel cipher are type of product ciphers that use both invertible as well as noninvertible components. Feistel cipher uses same non-invertible component in encryption as well as decryption algorithms. The effects of noninvertible component in the encryption can be canceled in the decryption algorithm if we use an exclusive-or operation.\n",
    "\n",
    "The encryption process uses the Feistel structure consisting of 2 rounds of processing of the plaintext, each round consisting of a “substitution” step followed by a permutation step.\n",
    "The input block to each round is divided into two halves that can be denoted as L and R for the left half and the right half.\n",
    "\n",
    "The process of decryption in Feistel cipher is almost similar. Instead of starting with a block of plaintext, the ciphertext block is fed into the start of the Feistel structure and then the process thereafter is exactly the same as described above.\n",
    "\n",
    "The number of rounds used in a Feistel Cipher depends on desired security from the system. More number of rounds provide more secure system. But at the same time, more rounds mean the inefficient slow encryption and decryption processes. Number of rounds in the systems thus depend upon efficiency–security tradeoff."
   ]
  },
  {
   "cell_type": "code",
   "execution_count": null,
   "metadata": {},
   "outputs": [],
   "source": []
  }
 ],
 "metadata": {
  "kernelspec": {
   "display_name": "Python 3",
   "language": "python",
   "name": "python3"
  },
  "language_info": {
   "codemirror_mode": {
    "name": "ipython",
    "version": 3
   },
   "file_extension": ".py",
   "mimetype": "text/x-python",
   "name": "python",
   "nbconvert_exporter": "python",
   "pygments_lexer": "ipython3",
   "version": "3.7.4"
  }
 },
 "nbformat": 4,
 "nbformat_minor": 4
}
