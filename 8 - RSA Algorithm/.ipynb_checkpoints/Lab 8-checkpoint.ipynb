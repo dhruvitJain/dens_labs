{
 "cells": [
  {
   "cell_type": "markdown",
   "metadata": {},
   "source": [
    "Name - Dhruvit Jain\n",
    "\n",
    "Branch/Stream - B. Tech ExTC\n",
    "\n",
    "Semester - 8\n",
    "\n",
    "DENS Lab Number - 8\n",
    "\n",
    "Date of performance - 04/03/2021\n",
    "\n",
    "Date of submission - 04/03/2021\n",
    "\n",
    "Aim - To implement RSA algorithm"
   ]
  },
  {
   "cell_type": "code",
   "execution_count": 59,
   "metadata": {},
   "outputs": [
    {
     "name": "stdout",
     "output_type": "stream",
     "text": [
      "Enter value of p: 11\n",
      "Enter value of q: 13\n",
      "N = P x Q = 143\n"
     ]
    }
   ],
   "source": [
    "#Selecting two prime numbers (p,q) and calculating n=p*q\n",
    "\n",
    "p = int (input(\"Enter value of p: \"))\n",
    "q = int (input(\"Enter value of q: \"))\n",
    "n = p*q\n",
    "print (\"N = P x Q =\", n)"
   ]
  },
  {
   "cell_type": "code",
   "execution_count": 60,
   "metadata": {},
   "outputs": [
    {
     "name": "stdout",
     "output_type": "stream",
     "text": [
      "phi(n) = 120\n"
     ]
    }
   ],
   "source": [
    "#Calculating phi(n)\n",
    "\n",
    "p_n = (p-1)*(q-1)\n",
    "print (\"phi(n) =\", p_n)"
   ]
  },
  {
   "cell_type": "code",
   "execution_count": 61,
   "metadata": {},
   "outputs": [],
   "source": [
    "#function to calculate factors of a number\n",
    "\n",
    "def factor (n):\n",
    "    factors = []\n",
    "    for i in range (1,n+1):\n",
    "        if n%i==0:\n",
    "            factors.append(i)\n",
    "    return factors"
   ]
  },
  {
   "cell_type": "code",
   "execution_count": 62,
   "metadata": {},
   "outputs": [
    {
     "name": "stdout",
     "output_type": "stream",
     "text": [
      "[1, 2, 3, 4, 5, 6, 8, 10, 12, 15, 20, 24, 30, 40, 60, 120]\n"
     ]
    }
   ],
   "source": [
    "factors = factor (p_n) #find factors of phi(n)\n",
    "print (factors)"
   ]
  },
  {
   "cell_type": "code",
   "execution_count": 70,
   "metadata": {},
   "outputs": [
    {
     "name": "stdout",
     "output_type": "stream",
     "text": [
      "Enter value of E:7\n",
      "E = 7 is valid\n",
      "E = 7 has a multiplicative inverse\n",
      "Multiplicative inverse of 7 i.e. D = 103\n"
     ]
    }
   ],
   "source": [
    "#Input value of E and find it's multiplicative inverse\n",
    "import math\n",
    "\n",
    "e = (int(input(\"Enter value of E:\")))\n",
    "\n",
    "if e in factors:\n",
    "    print (f\"This value of E cannot be taken as it is a factor of {p_n}!\")\n",
    "    \n",
    "elif e> p_n:\n",
    "    print (\"E cannot be greater than phi(n)\")\n",
    "    \n",
    "else:\n",
    "    print (f\"E = {e} is valid\")\n",
    "    \n",
    "    \n",
    "#verifying if multiplicative inverse of E exists\n",
    "    a = math.gcd (e,p_n)\n",
    "    if a == 1:\n",
    "        E = e\n",
    "        print (\"E =\",E,\"has a multiplicative inverse\")\n",
    "        \n",
    "        \n",
    "#finding multiplicative inverse of E i.e. D\n",
    "        for x in range (1,p_n):\n",
    "            E = E % p_n\n",
    "            if ((E * x) % p_n == 1):\n",
    "                D = x\n",
    "                print (f\"Multiplicative inverse of {E} i.e. D = {D}\") "
   ]
  },
  {
   "cell_type": "code",
   "execution_count": 71,
   "metadata": {},
   "outputs": [
    {
     "name": "stdout",
     "output_type": "stream",
     "text": [
      "Enter plain text: dhruvit\n",
      "Ciphertext: d[1'Ov\n"
     ]
    }
   ],
   "source": [
    "#convert a word into ciphertext using the formula\n",
    "\n",
    "plaintext = input (\"Enter plain text: \")\n",
    "pt = list(plaintext)\n",
    "\n",
    "ct = []\n",
    "for char in pt:\n",
    "    ciphertext1 = ord(char) #convert character to ascii\n",
    "    ciphertext = (ciphertext1**E)% n #perform calculation on ascii value\n",
    "    ciphertext = chr(ciphertext) #convert ascii back to character\n",
    "    ct.append (ciphertext)\n",
    "\n",
    "ct1= ''.join(ct)\n",
    "print (f\"Ciphertext: {ct1}\")"
   ]
  },
  {
   "cell_type": "code",
   "execution_count": 72,
   "metadata": {},
   "outputs": [
    {
     "name": "stdout",
     "output_type": "stream",
     "text": [
      "Plaintext: dhruvit\n"
     ]
    }
   ],
   "source": [
    "#get plaintext using ciphertext and formula\n",
    "\n",
    "pt = []\n",
    "for char in ct:\n",
    "    plaintext1 = ord (char) #convert character to ascii\n",
    "    plaintext = (plaintext1**D)% (n) #perform calculation on ascii value\n",
    "    plaintext = chr (plaintext) #convert ascii back to character\n",
    "    pt.append (plaintext)\n",
    "\n",
    "pt= ''.join(pt)\n",
    "print (\"Plaintext:\",pt)\n"
   ]
  },
  {
   "cell_type": "markdown",
   "metadata": {},
   "source": [
    "## CONCLUSIONS\n",
    "\n",
    "RSA (Rivest–Shamir–Adleman) is an algorithm used by modern computers to encrypt and decrypt messages. It is an asymmetric cryptographic algorithm. Asymmetric means that there are two different keys. This is also called public key cryptography, because one of the keys can be given to anyone. The other key must be kept private. \n",
    "\n",
    "The algorithm is based on the fact that finding the factors of a large composite number is difficult: when the factors are prime numbers, the problem is called prime factorization. It is also a key pair (public and private key) generator. The idea of RSA is based on the fact that it is difficult to factorize a large integer.\n",
    "\n",
    "The public key consists of two numbers where one number is multiplication of two large prime numbers. Encryption strength totally lies on the key size and if we double or triple the key size, the strength of encryption increases exponentially."
   ]
  }
 ],
 "metadata": {
  "kernelspec": {
   "display_name": "Python 3",
   "language": "python",
   "name": "python3"
  },
  "language_info": {
   "codemirror_mode": {
    "name": "ipython",
    "version": 3
   },
   "file_extension": ".py",
   "mimetype": "text/x-python",
   "name": "python",
   "nbconvert_exporter": "python",
   "pygments_lexer": "ipython3",
   "version": "3.7.4"
  }
 },
 "nbformat": 4,
 "nbformat_minor": 4
}
